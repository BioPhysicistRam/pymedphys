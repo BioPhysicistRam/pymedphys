{
 "cells": [
  {
   "cell_type": "code",
   "execution_count": null,
   "metadata": {},
   "outputs": [],
   "source": [
    "import networkx"
   ]
  },
  {
   "cell_type": "code",
   "execution_count": null,
   "metadata": {},
   "outputs": [],
   "source": [
    "%load_ext autoreload\n",
    "%autoreload 2"
   ]
  },
  {
   "cell_type": "code",
   "execution_count": null,
   "metadata": {},
   "outputs": [],
   "source": [
    "from pymedphys._experimental import tree, graphviz"
   ]
  },
  {
   "cell_type": "code",
   "execution_count": null,
   "metadata": {},
   "outputs": [],
   "source": [
    "module_dependencies = tree.get_module_dependencies()\n",
    "internal_modules = set(module_dependencies.keys())"
   ]
  },
  {
   "cell_type": "code",
   "execution_count": null,
   "metadata": {},
   "outputs": [],
   "source": [
    "root = 'pymedphys'\n",
    "\n",
    "top_level_api = [item for item in module_dependencies[root] if not item[2].startswith('_')]\n",
    "module_apis = [item[0] for item in top_level_api if item[0] == item[1]]\n",
    "\n",
    "second_level_apis = {}\n",
    "for module in module_apis:\n",
    "    second_level_apis[module] = [item for item in module_dependencies[module] if not item[2].startswith('_')]\n",
    "    \n",
    "exposure_module_maps = {\n",
    "    f\"{root}.{item[2]}\": item[1] for item in top_level_api if item[0] != item[1]\n",
    "}\n",
    "\n",
    "for module, second_level_api in second_level_apis.items():\n",
    "    exposure_module_maps = {\n",
    "        **exposure_module_maps,\n",
    "        **{f\"{module}.{item[2]}\": item[1] for item in second_level_api}        \n",
    "    }\n",
    "\n",
    "exposure_module_maps"
   ]
  },
  {
   "cell_type": "code",
   "execution_count": null,
   "metadata": {},
   "outputs": [],
   "source": []
  },
  {
   "cell_type": "code",
   "execution_count": null,
   "metadata": {},
   "outputs": [],
   "source": []
  },
  {
   "cell_type": "code",
   "execution_count": null,
   "metadata": {},
   "outputs": [],
   "source": [
    "api_to_graph = top_level_api[0]\n",
    "api_to_graph"
   ]
  },
  {
   "cell_type": "code",
   "execution_count": null,
   "metadata": {},
   "outputs": [],
   "source": [
    "# traversal of the pymedphys public API\n",
    "\n",
    "traversal_nodes = {api_to_graph[1]}\n",
    "di_graph = networkx.DiGraph()\n",
    "di_graph.add_node(api_to_graph[1])\n",
    "\n",
    "while traversal_nodes:\n",
    "    node = traversal_nodes.pop()\n",
    "    raw_dependencies = module_dependencies[node]\n",
    "    \n",
    "    for dependency in raw_dependencies:\n",
    "        if (\n",
    "            not dependency[2].startswith('_') and\n",
    "            not dependency[1] in di_graph and\n",
    "            dependency[1] in internal_modules\n",
    "        ):\n",
    "            traversal_nodes.add(dependency[1])\n",
    "            di_graph.add_node(dependency[1])\n",
    "            di_graph.add_edge(node, dependency[1])"
   ]
  },
  {
   "cell_type": "code",
   "execution_count": null,
   "metadata": {},
   "outputs": [],
   "source": [
    "networkx.draw(di_graph)"
   ]
  },
  {
   "cell_type": "code",
   "execution_count": null,
   "metadata": {},
   "outputs": [],
   "source": [
    "def create_href(text):\n",
    "    return \"#{}\".format(text.replace(\"_\", \"-\").replace(\".\", \"-\"))\n",
    "\n",
    "\n",
    "def create_link(text):\n",
    "    return '[URL=\"{}\"]'.format(create_href(text))\n",
    "\n",
    "\n",
    "def create_labels(label_map):\n",
    "    labels = \"\"\n",
    "    for node, label in label_map.items():\n",
    "        labels += '\"{}\" [label=\"{}\"] {};\\n'.format(node, label, create_link(node))\n",
    "\n",
    "    return labels\n"
   ]
  },
  {
   "cell_type": "code",
   "execution_count": null,
   "metadata": {},
   "outputs": [],
   "source": [
    "# graphviz.dot_string_to_svg(\n",
    "#     \"\"\"\n",
    "#         digraph sample {\n",
    "#             A -> B;\n",
    "#             B -> C;\n",
    "#             C -> E;\n",
    "#         }\n",
    "#     \"\"\", \n",
    "#     'test.svg'\n",
    "# )"
   ]
  },
  {
   "cell_type": "code",
   "execution_count": null,
   "metadata": {},
   "outputs": [],
   "source": [
    "edges = \"\"\n",
    "for edge in di_graph.edges:\n",
    "    edges = edges + f'\"{edge[0]}\" -> \"{edge[1]}\";\\n'\n",
    "    \n",
    "# print(edges)"
   ]
  },
  {
   "cell_type": "code",
   "execution_count": null,
   "metadata": {},
   "outputs": [],
   "source": [
    "graphviz.dot_string_to_svg(\n",
    "    f\"\"\"\n",
    "        digraph sample {{\n",
    "            {edges}\n",
    "        }}\n",
    "    \"\"\", \n",
    "    'test.svg'\n",
    ")"
   ]
  },
  {
   "cell_type": "code",
   "execution_count": null,
   "metadata": {},
   "outputs": [],
   "source": [
    "#     print(f\"\"\"\n",
    "#         digraph sample {{\n",
    "#             {edges}\n",
    "#         }}\n",
    "#     \"\"\")"
   ]
  },
  {
   "cell_type": "code",
   "execution_count": null,
   "metadata": {},
   "outputs": [],
   "source": []
  },
  {
   "cell_type": "code",
   "execution_count": null,
   "metadata": {},
   "outputs": [],
   "source": []
  },
  {
   "cell_type": "code",
   "execution_count": null,
   "metadata": {},
   "outputs": [],
   "source": []
  },
  {
   "cell_type": "code",
   "execution_count": null,
   "metadata": {},
   "outputs": [],
   "source": []
  },
  {
   "cell_type": "code",
   "execution_count": null,
   "metadata": {},
   "outputs": [],
   "source": []
  },
  {
   "cell_type": "code",
   "execution_count": null,
   "metadata": {},
   "outputs": [],
   "source": [
    "# module_dependencies"
   ]
  },
  {
   "cell_type": "code",
   "execution_count": null,
   "metadata": {},
   "outputs": [],
   "source": [
    "def is_stable_public_api(module_name):\n",
    "    not_stable_api_keys = ['._', 'beta', 'tests', 'docs', 'cli', 'experimental']\n",
    "    for key in not_stable_api_keys:\n",
    "        if key in module_name:\n",
    "            return False\n",
    "\n",
    "    return True"
   ]
  },
  {
   "cell_type": "code",
   "execution_count": null,
   "metadata": {},
   "outputs": [],
   "source": [
    "public_modules = [\n",
    "    key for key in module_dependencies.keys()\n",
    "    if is_stable_public_api(key)\n",
    "]"
   ]
  },
  {
   "cell_type": "code",
   "execution_count": null,
   "metadata": {},
   "outputs": [],
   "source": [
    "# TODO:\n",
    "\n",
    "# Get each publicly exposed API function/class.\n",
    "# Draw a dependency tree for those publicly exposed APIs.\n",
    "# Have a tree per API.\n",
    "\n",
    "# The below doesn't achieve that yet."
   ]
  },
  {
   "cell_type": "code",
   "execution_count": null,
   "metadata": {},
   "outputs": [],
   "source": []
  },
  {
   "cell_type": "code",
   "execution_count": null,
   "metadata": {},
   "outputs": [],
   "source": [
    "public_modules"
   ]
  },
  {
   "cell_type": "code",
   "execution_count": null,
   "metadata": {},
   "outputs": [],
   "source": [
    "def append_module_dependencies_to_graph(di_graph, modules, dependency_map):\n",
    "    new_modules_to_traverse = set()\n",
    "    for module in modules:\n",
    "        if module not in di_graph:\n",
    "            di_graph.add_node(module)\n",
    "        for dependency in dependency_map[module]:\n",
    "            if dependency not in di_graph and dependency not in modules:\n",
    "                di_graph.add_node(dependency)\n",
    "                \n",
    "                if dependency in dependency_map.keys():\n",
    "                    new_modules_to_traverse.add(dependency)\n",
    "                \n",
    "            di_graph.add_edge(module, dependency)\n",
    "            \n",
    "    return di_graph, new_modules_to_traverse        "
   ]
  },
  {
   "cell_type": "code",
   "execution_count": null,
   "metadata": {},
   "outputs": [],
   "source": [
    "di_graph = networkx.DiGraph()\n",
    "modules_to_traverse = public_modules\n",
    "\n",
    "while modules_to_traverse:\n",
    "    di_graph, modules_to_traverse = append_module_dependencies_to_graph(\n",
    "        di_graph, modules_to_traverse, module_dependencies)"
   ]
  },
  {
   "cell_type": "code",
   "execution_count": null,
   "metadata": {},
   "outputs": [],
   "source": [
    "networkx.draw(di_graph)"
   ]
  }
 ],
 "metadata": {
  "kernelspec": {
   "display_name": "pymedphys",
   "language": "python",
   "name": "pymedphys"
  },
  "language_info": {
   "codemirror_mode": {
    "name": "ipython",
    "version": 3
   },
   "file_extension": ".py",
   "mimetype": "text/x-python",
   "name": "python",
   "nbconvert_exporter": "python",
   "pygments_lexer": "ipython3",
   "version": "3.8.6"
  }
 },
 "nbformat": 4,
 "nbformat_minor": 4
}
