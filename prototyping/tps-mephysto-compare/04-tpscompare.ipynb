{
 "cells": [
  {
   "cell_type": "code",
   "execution_count": null,
   "metadata": {},
   "outputs": [],
   "source": [
    "from IPython.lib.deepreload import reload\n",
    "%load_ext autoreload\n",
    "%autoreload 2"
   ]
  },
  {
   "cell_type": "code",
   "execution_count": null,
   "metadata": {},
   "outputs": [],
   "source": [
    "import re\n",
    "import operator\n",
    "from pathlib import Path\n",
    "\n",
    "import numpy as np\n",
    "import matplotlib.pyplot as plt\n",
    "import pandas as pd\n",
    "\n",
    "import pydicom\n",
    "\n",
    "from pymedphys._experimental.fileformats import mephysto as pp_mephysto\n",
    "from pymedphys import dicom as pp_dicom"
   ]
  },
  {
   "cell_type": "code",
   "execution_count": null,
   "metadata": {},
   "outputs": [],
   "source": [
    "ROOT_DIR = Path(r\"S:\\Physics\\Monaco\\Model vs Measurement Comparisons\")\n",
    "\n",
    "DICOM_DIR = ROOT_DIR.joinpath(r\"Beam Models\\CCA Monaco Photon Monte Carlo\\\\DICOM dose exports\")\n",
    "MEASUREMENTS_DIR = ROOT_DIR.joinpath(r\"Measurements\\RCCC\\Photons\")\n",
    "RESULTS = ROOT_DIR.joinpath(r\"Results\\RCCC\\pymedphys-based-results\")"
   ]
  },
  {
   "cell_type": "code",
   "execution_count": null,
   "metadata": {},
   "outputs": [],
   "source": [
    "absolute_dose_table = pd.read_csv(MEASUREMENTS_DIR.joinpath('AbsoluteDose.csv'), index_col=0)\n",
    "absolute_dose = absolute_dose_table['d10 @ 90 SSD']['06MV']\n",
    "absolute_dose"
   ]
  },
  {
   "cell_type": "code",
   "execution_count": null,
   "metadata": {},
   "outputs": [],
   "source": [
    "output_factors = pd.read_csv(MEASUREMENTS_DIR.joinpath('OutputFactors.csv'), index_col=0)\n",
    "output_factors"
   ]
  },
  {
   "cell_type": "code",
   "execution_count": null,
   "metadata": {},
   "outputs": [],
   "source": [
    "absolute_doses = {\n",
    "    key: output_factors[key]['06MV'] * absolute_dose\n",
    "    for key in output_factors.columns\n",
    "}\n",
    "\n",
    "absolute_doses"
   ]
  },
  {
   "cell_type": "code",
   "execution_count": null,
   "metadata": {},
   "outputs": [],
   "source": [
    "pp_mephysto.load_mephysto_directory?"
   ]
  },
  {
   "cell_type": "code",
   "execution_count": null,
   "metadata": {},
   "outputs": [],
   "source": [
    "absolute_scans_per_field = pp_mephysto.load_mephysto_directory(\n",
    "    MEASUREMENTS_DIR, r'06MV (\\d\\dx\\d\\d Open)\\.mcc', absolute_doses, 100)\n",
    "\n",
    "getter = operator.itemgetter('displacement', 'dose')"
   ]
  },
  {
   "cell_type": "code",
   "execution_count": null,
   "metadata": {},
   "outputs": [],
   "source": [
    "keys = absolute_scans_per_field.keys()"
   ]
  },
  {
   "cell_type": "code",
   "execution_count": null,
   "metadata": {},
   "outputs": [],
   "source": [
    "def load_dicom_files(directory, keys):\n",
    "    dicom_file_map = {\n",
    "        key: directory.joinpath(f'06MV {key}.dcm')\n",
    "        for key in keys\n",
    "    }\n",
    "    \n",
    "    dicom_dataset_map = {\n",
    "        key: pydicom.read_file(str(dicom_file_map[key]), force=True)\n",
    "        for key in keys\n",
    "    }\n",
    "    \n",
    "    return dicom_dataset_map"
   ]
  },
  {
   "cell_type": "code",
   "execution_count": null,
   "metadata": {},
   "outputs": [],
   "source": [
    "dicom_dataset_map = load_dicom_files(DICOM_DIR, keys)\n",
    "dicom_plan = pydicom.read_file(DICOM_DIR.parent.joinpath(\"plan.dcm\"), force=True)"
   ]
  },
  {
   "cell_type": "code",
   "execution_count": null,
   "metadata": {},
   "outputs": [],
   "source": [
    "def plot_one_axis(ax, displacement, meas_dose, tps_dose):\n",
    "    diff = tps_dose - meas_dose\n",
    "    \n",
    "    lines = []\n",
    "    \n",
    "    lines += ax.plot(displacement, meas_dose, label='Measured Dose')\n",
    "    lines += ax.plot(displacement, tps_dose, label='TPS Dose')\n",
    "    ax.set_ylabel('Dose (Gy / 100 MU)')\n",
    "    \n",
    "    x_bounds = [np.min(displacement), np.max(displacement)]\n",
    "    ax.set_xlim(x_bounds)\n",
    "\n",
    "    ax_twin = ax.twinx()\n",
    "\n",
    "    lines += ax_twin.plot(displacement, diff, color='C3', alpha=0.5, label='Residuals [TPS - Meas]')\n",
    "    ax_twin.plot(x_bounds, [0, 0], '--', color='C3', lw=0.5)\n",
    "    ax_twin.set_ylabel('Dose difference [TPS - Meas] (Gy / 100 MU)')\n",
    "\n",
    "    labels = [l.get_label() for l in lines]\n",
    "    \n",
    "    ax.legend(lines, labels)\n",
    "    \n",
    "    return ax_twin\n",
    "\n",
    "\n",
    "\n",
    "def plot_tps_meas_diff(displacement, meas_dose, tps_dose):\n",
    "    fig, ax = plt.subplots(1, 1, figsize=(12,6))\n",
    "    \n",
    "    plot_one_axis(ax, displacement, meas_dose, tps_dose)\n",
    "    \n",
    "    return fig, ax\n",
    "\n",
    "\n",
    "def plot_pdd_diff(key):\n",
    "    depth, meas_dose = getter(absolute_scans_per_field[key]['depth_dose'])\n",
    "    tps_dose = pp_dicom.depth_dose(depth, dicom_dataset_map[key], dicom_plan) / 10\n",
    "\n",
    "    fig, ax = plot_tps_meas_diff(depth, meas_dose, tps_dose)\n",
    "    ax.set_title(f'Depth Dose | {key} field', fontsize=\"x-large\")\n",
    "    \n",
    "\n",
    "for key in keys:\n",
    "    plot_pdd_diff(key)\n",
    "    filename = RESULTS.joinpath(f'{key}_pdd.png')\n",
    "    plt.savefig(filename)\n",
    "    plt.show()"
   ]
  },
  {
   "cell_type": "code",
   "execution_count": null,
   "metadata": {},
   "outputs": [],
   "source": [
    "def plot_profile_diff(key, depth, direction):\n",
    "    displacement, meas_dose = getter(absolute_scans_per_field[key]['profiles'][depth][direction])\n",
    "    \n",
    "    tps_dose = pp_dicom.profile(displacement, depth, direction, dicom_dataset_map[key], dicom_plan) / 10\n",
    "\n",
    "    fig, ax = plot_tps_meas_diff(displacement, meas_dose, tps_dose)\n",
    "    ax.set_title(f'{direction.capitalize()} Profile | {key} field | Depth: {depth} mm', fontsize=\"x-large\")\n",
    "    \n",
    "\n",
    "for key in keys:\n",
    "    depths = absolute_scans_per_field[key]['profiles'].keys()\n",
    "    for depth in depths:\n",
    "        for direction in ['inplane', 'crossplane']:\n",
    "            plot_profile_diff(key, depth, direction)\n",
    "            filename = RESULTS.joinpath(f'{key}_profile_{depth}mm_{direction}.png')\n",
    "            plt.savefig(filename)\n",
    "            plt.show()"
   ]
  },
  {
   "cell_type": "code",
   "execution_count": null,
   "metadata": {},
   "outputs": [],
   "source": []
  }
 ],
 "metadata": {
  "kernelspec": {
   "display_name": "pymedphys-master",
   "language": "python",
   "name": "pymedphys-master"
  },
  "language_info": {
   "codemirror_mode": {
    "name": "ipython",
    "version": 3
   },
   "file_extension": ".py",
   "mimetype": "text/x-python",
   "name": "python",
   "nbconvert_exporter": "python",
   "pygments_lexer": "ipython3",
   "version": "3.7.9"
  }
 },
 "nbformat": 4,
 "nbformat_minor": 4
}
