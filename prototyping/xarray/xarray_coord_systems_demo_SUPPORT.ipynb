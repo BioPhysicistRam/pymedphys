{
 "cells": [
  {
   "cell_type": "code",
   "execution_count": null,
   "metadata": {},
   "outputs": [],
   "source": [
    "from matplotlib import pyplot as plt\n",
    "import numpy as np\n",
    "import pydicom\n",
    "import xarray as xr"
   ]
  },
  {
   "cell_type": "code",
   "execution_count": null,
   "metadata": {},
   "outputs": [],
   "source": [
    "from pymedphys._data import download\n",
    "from pymedphys._dicom import constants, coords, dose\n",
    "\n",
    "import xdose"
   ]
  },
  {
   "cell_type": "code",
   "execution_count": null,
   "metadata": {},
   "outputs": [],
   "source": [
    "dicom_dose_filepaths = {orient: download.get_file_within_data_zip(\n",
    "    \"dicomorient_doses_only.zip\", f\"RD.DICOMORIENT.Dose_{orient}.dcm\"\n",
    ") for orient in constants.IMAGE_ORIENTATION_MAP}\n",
    "\n",
    "rtdoses_by_orient = {orient: pydicom.dcmread(dicom_dose_filepaths[orient]) for orient in constants.IMAGE_ORIENTATION_MAP}"
   ]
  },
  {
   "cell_type": "code",
   "execution_count": null,
   "metadata": {},
   "outputs": [],
   "source": [
    "xdoses_by_orient = {orient: xdose.xdose_from_dataset(rtdoses_by_orient[orient], name=f\"Dose {orient}\", coord_system=\"S\")  for orient in constants.IMAGE_ORIENTATION_MAP}"
   ]
  },
  {
   "cell_type": "markdown",
   "metadata": {},
   "source": [
    "## Plot all orientations for coord system: \"IEC SUPPORT\""
   ]
  },
  {
   "cell_type": "code",
   "execution_count": null,
   "metadata": {},
   "outputs": [],
   "source": [
    "centre_point = (0, -1157, 0)\n",
    "\n",
    "for orient, xd in xdoses_by_orient.items():\n",
    "    xdose.plot_xdose_tcs_at_point(xdose_to_plot=xd, point=centre_point, coord_system=\"S\")"
   ]
  },
  {
   "cell_type": "code",
   "execution_count": null,
   "metadata": {},
   "outputs": [],
   "source": []
  }
 ],
 "metadata": {
  "kernelspec": {
   "display_name": "Python 3.7.9 64-bit",
   "metadata": {
    "interpreter": {
     "hash": "d9ce22c6de45e42563a5ae00e2d764113bb10dc3ac2e1e635a628c0814045e6a"
    }
   },
   "name": "python3"
  },
  "language_info": {
   "codemirror_mode": {
    "name": "ipython",
    "version": 3
   },
   "file_extension": ".py",
   "mimetype": "text/x-python",
   "name": "python",
   "nbconvert_exporter": "python",
   "pygments_lexer": "ipython3",
   "version": "3.7.9-final"
  }
 },
 "nbformat": 4,
 "nbformat_minor": 2
}
