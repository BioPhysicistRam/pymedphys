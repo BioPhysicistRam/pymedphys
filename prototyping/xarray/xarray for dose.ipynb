{
 "metadata": {
  "language_info": {
   "codemirror_mode": {
    "name": "ipython",
    "version": 3
   },
   "file_extension": ".py",
   "mimetype": "text/x-python",
   "name": "python",
   "nbconvert_exporter": "python",
   "pygments_lexer": "ipython3",
   "version": "3.8.5-final"
  },
  "orig_nbformat": 2,
  "kernelspec": {
   "name": "python3",
   "display_name": "Python 3",
   "language": "python"
  }
 },
 "nbformat": 4,
 "nbformat_minor": 2,
 "cells": [
  {
   "cell_type": "code",
   "execution_count": 9,
   "metadata": {},
   "outputs": [],
   "source": [
    "import pydicom\n",
    "import xarray as xr"
   ]
  },
  {
   "cell_type": "code",
   "execution_count": 2,
   "metadata": {},
   "outputs": [],
   "source": [
    "from pymedphys._data import download\n",
    "from pymedphys._dicom import coords, dose"
   ]
  },
  {
   "cell_type": "code",
   "execution_count": 3,
   "metadata": {},
   "outputs": [],
   "source": [
    "dicom_dose_filepath = download.get_file_within_data_zip(\n",
    "    \"dicom_dose_test_data.zip\", \"RD.wedge.dcm\"\n",
    ")\n",
    "ds = pydicom.dcmread(dicom_dose_filepath)"
   ]
  },
  {
   "cell_type": "code",
   "execution_count": 4,
   "metadata": {},
   "outputs": [
    {
     "output_type": "execute_result",
     "data": {
      "text/plain": [
       "(60, 130, 75)"
      ]
     },
     "metadata": {},
     "execution_count": 4
    }
   ],
   "source": [
    "dose = dose.dose_from_dataset(ds)\n",
    "dose.shape"
   ]
  },
  {
   "cell_type": "code",
   "execution_count": 15,
   "metadata": {},
   "outputs": [],
   "source": [
    "extents = coords.xyz_axes_from_dataset(ds)"
   ]
  },
  {
   "cell_type": "code",
   "execution_count": 16,
   "metadata": {},
   "outputs": [
    {
     "output_type": "execute_result",
     "data": {
      "text/plain": [
       "(3, 60, 130, 75)"
      ]
     },
     "metadata": {},
     "execution_count": 16
    }
   ],
   "source": [
    "coordinates = coords.coords_from_dataset(ds, coord_system=\"IEC FIXED\")\n",
    "coordinates.grid.shape"
   ]
  },
  {
   "cell_type": "code",
   "execution_count": 22,
   "metadata": {},
   "outputs": [
    {
     "output_type": "execute_result",
     "data": {
      "text/plain": [
       "<xarray.DataArray (y: 60, z: 130, x: 75)>\n",
       "array([[[0.        , 0.        , 0.        , ..., 0.        ,\n",
       "         0.        , 0.        ],\n",
       "        [0.        , 0.        , 0.        , ..., 0.        ,\n",
       "         0.        , 0.        ],\n",
       "        [0.        , 0.        , 0.        , ..., 0.        ,\n",
       "         0.        , 0.        ],\n",
       "        ...,\n",
       "        [0.21956613, 0.24620829, 0.25586645, ..., 0.01722322,\n",
       "         0.01291741, 0.00861161],\n",
       "        [0.21708431, 0.24339756, 0.25296601, ..., 0.01716342,\n",
       "         0.01288751, 0.00858171],\n",
       "        [0.21418387, 0.2401084 , 0.24955725, ..., 0.00855181,\n",
       "         0.00642881, 0.0042759 ]],\n",
       "\n",
       "       [[0.        , 0.        , 0.        , ..., 0.        ,\n",
       "         0.        , 0.        ],\n",
       "        [0.        , 0.        , 0.        , ..., 0.        ,\n",
       "         0.        , 0.        ],\n",
       "        [0.        , 0.        , 0.        , ..., 0.        ,\n",
       "         0.        , 0.        ],\n",
       "...\n",
       "        [0.03459594, 0.03597141, 0.03737678, ..., 0.00723614,\n",
       "         0.00544206, 0.00361807],\n",
       "        [0.03441653, 0.035792  , 0.03719737, ..., 0.00723614,\n",
       "         0.00544206, 0.00361807],\n",
       "        [0.03423713, 0.03603121, 0.03698806, ..., 0.00361807,\n",
       "         0.00272103, 0.00179409]],\n",
       "\n",
       "       [[0.        , 0.        , 0.        , ..., 0.        ,\n",
       "         0.        , 0.        ],\n",
       "        [0.        , 0.        , 0.        , ..., 0.        ,\n",
       "         0.        , 0.        ],\n",
       "        [0.        , 0.        , 0.        , ..., 0.        ,\n",
       "         0.        , 0.        ],\n",
       "        ...,\n",
       "        [0.0316656 , 0.03301117, 0.0336391 , ..., 0.00361807,\n",
       "         0.00272103, 0.00182399],\n",
       "        [0.0315759 , 0.03295136, 0.03357929, ..., 0.00361807,\n",
       "         0.00272103, 0.00182399],\n",
       "        [0.0314862 , 0.03283176, 0.03345969, ..., 0.00179409,\n",
       "         0.00134556, 0.00089704]]])\n",
       "Coordinates:\n",
       "  * x        (x) float64 -49.0 -47.0 -45.0 -43.0 -41.0 ... 93.0 95.0 97.0 99.0\n",
       "  * y        (y) float64 211.0 213.0 215.0 217.0 ... 323.0 325.0 327.0 329.0\n",
       "  * z        (z) float64 259.0 257.0 255.0 253.0 251.0 ... 9.0 7.0 5.0 3.0 1.0"
      ],
      "text/html": "<div><svg style=\"position: absolute; width: 0; height: 0; overflow: hidden\">\n<defs>\n<symbol id=\"icon-database\" viewBox=\"0 0 32 32\">\n<path d=\"M16 0c-8.837 0-16 2.239-16 5v4c0 2.761 7.163 5 16 5s16-2.239 16-5v-4c0-2.761-7.163-5-16-5z\"></path>\n<path d=\"M16 17c-8.837 0-16-2.239-16-5v6c0 2.761 7.163 5 16 5s16-2.239 16-5v-6c0 2.761-7.163 5-16 5z\"></path>\n<path d=\"M16 26c-8.837 0-16-2.239-16-5v6c0 2.761 7.163 5 16 5s16-2.239 16-5v-6c0 2.761-7.163 5-16 5z\"></path>\n</symbol>\n<symbol id=\"icon-file-text2\" viewBox=\"0 0 32 32\">\n<path d=\"M28.681 7.159c-0.694-0.947-1.662-2.053-2.724-3.116s-2.169-2.030-3.116-2.724c-1.612-1.182-2.393-1.319-2.841-1.319h-15.5c-1.378 0-2.5 1.121-2.5 2.5v27c0 1.378 1.122 2.5 2.5 2.5h23c1.378 0 2.5-1.122 2.5-2.5v-19.5c0-0.448-0.137-1.23-1.319-2.841zM24.543 5.457c0.959 0.959 1.712 1.825 2.268 2.543h-4.811v-4.811c0.718 0.556 1.584 1.309 2.543 2.268zM28 29.5c0 0.271-0.229 0.5-0.5 0.5h-23c-0.271 0-0.5-0.229-0.5-0.5v-27c0-0.271 0.229-0.5 0.5-0.5 0 0 15.499-0 15.5 0v7c0 0.552 0.448 1 1 1h7v19.5z\"></path>\n<path d=\"M23 26h-14c-0.552 0-1-0.448-1-1s0.448-1 1-1h14c0.552 0 1 0.448 1 1s-0.448 1-1 1z\"></path>\n<path d=\"M23 22h-14c-0.552 0-1-0.448-1-1s0.448-1 1-1h14c0.552 0 1 0.448 1 1s-0.448 1-1 1z\"></path>\n<path d=\"M23 18h-14c-0.552 0-1-0.448-1-1s0.448-1 1-1h14c0.552 0 1 0.448 1 1s-0.448 1-1 1z\"></path>\n</symbol>\n</defs>\n</svg>\n<style>/* CSS stylesheet for displaying xarray objects in jupyterlab.\n *\n */\n\n:root {\n  --xr-font-color0: var(--jp-content-font-color0, rgba(0, 0, 0, 1));\n  --xr-font-color2: var(--jp-content-font-color2, rgba(0, 0, 0, 0.54));\n  --xr-font-color3: var(--jp-content-font-color3, rgba(0, 0, 0, 0.38));\n  --xr-border-color: var(--jp-border-color2, #e0e0e0);\n  --xr-disabled-color: var(--jp-layout-color3, #bdbdbd);\n  --xr-background-color: var(--jp-layout-color0, white);\n  --xr-background-color-row-even: var(--jp-layout-color1, white);\n  --xr-background-color-row-odd: var(--jp-layout-color2, #eeeeee);\n}\n\nhtml[theme=dark],\nbody.vscode-dark {\n  --xr-font-color0: rgba(255, 255, 255, 1);\n  --xr-font-color2: rgba(255, 255, 255, 0.54);\n  --xr-font-color3: rgba(255, 255, 255, 0.38);\n  --xr-border-color: #1F1F1F;\n  --xr-disabled-color: #515151;\n  --xr-background-color: #111111;\n  --xr-background-color-row-even: #111111;\n  --xr-background-color-row-odd: #313131;\n}\n\n.xr-wrap {\n  display: block;\n  min-width: 300px;\n  max-width: 700px;\n}\n\n.xr-text-repr-fallback {\n  /* fallback to plain text repr when CSS is not injected (untrusted notebook) */\n  display: none;\n}\n\n.xr-header {\n  padding-top: 6px;\n  padding-bottom: 6px;\n  margin-bottom: 4px;\n  border-bottom: solid 1px var(--xr-border-color);\n}\n\n.xr-header > div,\n.xr-header > ul {\n  display: inline;\n  margin-top: 0;\n  margin-bottom: 0;\n}\n\n.xr-obj-type,\n.xr-array-name {\n  margin-left: 2px;\n  margin-right: 10px;\n}\n\n.xr-obj-type {\n  color: var(--xr-font-color2);\n}\n\n.xr-sections {\n  padding-left: 0 !important;\n  display: grid;\n  grid-template-columns: 150px auto auto 1fr 20px 20px;\n}\n\n.xr-section-item {\n  display: contents;\n}\n\n.xr-section-item input {\n  display: none;\n}\n\n.xr-section-item input + label {\n  color: var(--xr-disabled-color);\n}\n\n.xr-section-item input:enabled + label {\n  cursor: pointer;\n  color: var(--xr-font-color2);\n}\n\n.xr-section-item input:enabled + label:hover {\n  color: var(--xr-font-color0);\n}\n\n.xr-section-summary {\n  grid-column: 1;\n  color: var(--xr-font-color2);\n  font-weight: 500;\n}\n\n.xr-section-summary > span {\n  display: inline-block;\n  padding-left: 0.5em;\n}\n\n.xr-section-summary-in:disabled + label {\n  color: var(--xr-font-color2);\n}\n\n.xr-section-summary-in + label:before {\n  display: inline-block;\n  content: '►';\n  font-size: 11px;\n  width: 15px;\n  text-align: center;\n}\n\n.xr-section-summary-in:disabled + label:before {\n  color: var(--xr-disabled-color);\n}\n\n.xr-section-summary-in:checked + label:before {\n  content: '▼';\n}\n\n.xr-section-summary-in:checked + label > span {\n  display: none;\n}\n\n.xr-section-summary,\n.xr-section-inline-details {\n  padding-top: 4px;\n  padding-bottom: 4px;\n}\n\n.xr-section-inline-details {\n  grid-column: 2 / -1;\n}\n\n.xr-section-details {\n  display: none;\n  grid-column: 1 / -1;\n  margin-bottom: 5px;\n}\n\n.xr-section-summary-in:checked ~ .xr-section-details {\n  display: contents;\n}\n\n.xr-array-wrap {\n  grid-column: 1 / -1;\n  display: grid;\n  grid-template-columns: 20px auto;\n}\n\n.xr-array-wrap > label {\n  grid-column: 1;\n  vertical-align: top;\n}\n\n.xr-preview {\n  color: var(--xr-font-color3);\n}\n\n.xr-array-preview,\n.xr-array-data {\n  padding: 0 5px !important;\n  grid-column: 2;\n}\n\n.xr-array-data,\n.xr-array-in:checked ~ .xr-array-preview {\n  display: none;\n}\n\n.xr-array-in:checked ~ .xr-array-data,\n.xr-array-preview {\n  display: inline-block;\n}\n\n.xr-dim-list {\n  display: inline-block !important;\n  list-style: none;\n  padding: 0 !important;\n  margin: 0;\n}\n\n.xr-dim-list li {\n  display: inline-block;\n  padding: 0;\n  margin: 0;\n}\n\n.xr-dim-list:before {\n  content: '(';\n}\n\n.xr-dim-list:after {\n  content: ')';\n}\n\n.xr-dim-list li:not(:last-child):after {\n  content: ',';\n  padding-right: 5px;\n}\n\n.xr-has-index {\n  font-weight: bold;\n}\n\n.xr-var-list,\n.xr-var-item {\n  display: contents;\n}\n\n.xr-var-item > div,\n.xr-var-item label,\n.xr-var-item > .xr-var-name span {\n  background-color: var(--xr-background-color-row-even);\n  margin-bottom: 0;\n}\n\n.xr-var-item > .xr-var-name:hover span {\n  padding-right: 5px;\n}\n\n.xr-var-list > li:nth-child(odd) > div,\n.xr-var-list > li:nth-child(odd) > label,\n.xr-var-list > li:nth-child(odd) > .xr-var-name span {\n  background-color: var(--xr-background-color-row-odd);\n}\n\n.xr-var-name {\n  grid-column: 1;\n}\n\n.xr-var-dims {\n  grid-column: 2;\n}\n\n.xr-var-dtype {\n  grid-column: 3;\n  text-align: right;\n  color: var(--xr-font-color2);\n}\n\n.xr-var-preview {\n  grid-column: 4;\n}\n\n.xr-var-name,\n.xr-var-dims,\n.xr-var-dtype,\n.xr-preview,\n.xr-attrs dt {\n  white-space: nowrap;\n  overflow: hidden;\n  text-overflow: ellipsis;\n  padding-right: 10px;\n}\n\n.xr-var-name:hover,\n.xr-var-dims:hover,\n.xr-var-dtype:hover,\n.xr-attrs dt:hover {\n  overflow: visible;\n  width: auto;\n  z-index: 1;\n}\n\n.xr-var-attrs,\n.xr-var-data {\n  display: none;\n  background-color: var(--xr-background-color) !important;\n  padding-bottom: 5px !important;\n}\n\n.xr-var-attrs-in:checked ~ .xr-var-attrs,\n.xr-var-data-in:checked ~ .xr-var-data {\n  display: block;\n}\n\n.xr-var-data > table {\n  float: right;\n}\n\n.xr-var-name span,\n.xr-var-data,\n.xr-attrs {\n  padding-left: 25px !important;\n}\n\n.xr-attrs,\n.xr-var-attrs,\n.xr-var-data {\n  grid-column: 1 / -1;\n}\n\ndl.xr-attrs {\n  padding: 0;\n  margin: 0;\n  display: grid;\n  grid-template-columns: 125px auto;\n}\n\n.xr-attrs dt,\n.xr-attrs dd {\n  padding: 0;\n  margin: 0;\n  float: left;\n  padding-right: 10px;\n  width: auto;\n}\n\n.xr-attrs dt {\n  font-weight: normal;\n  grid-column: 1;\n}\n\n.xr-attrs dt:hover span {\n  display: inline-block;\n  background: var(--xr-background-color);\n  padding-right: 10px;\n}\n\n.xr-attrs dd {\n  grid-column: 2;\n  white-space: pre-wrap;\n  word-break: break-all;\n}\n\n.xr-icon-database,\n.xr-icon-file-text2 {\n  display: inline-block;\n  vertical-align: middle;\n  width: 1em;\n  height: 1.5em !important;\n  stroke-width: 0;\n  stroke: currentColor;\n  fill: currentColor;\n}\n</style><pre class='xr-text-repr-fallback'>&lt;xarray.DataArray (y: 60, z: 130, x: 75)&gt;\narray([[[0.        , 0.        , 0.        , ..., 0.        ,\n         0.        , 0.        ],\n        [0.        , 0.        , 0.        , ..., 0.        ,\n         0.        , 0.        ],\n        [0.        , 0.        , 0.        , ..., 0.        ,\n         0.        , 0.        ],\n        ...,\n        [0.21956613, 0.24620829, 0.25586645, ..., 0.01722322,\n         0.01291741, 0.00861161],\n        [0.21708431, 0.24339756, 0.25296601, ..., 0.01716342,\n         0.01288751, 0.00858171],\n        [0.21418387, 0.2401084 , 0.24955725, ..., 0.00855181,\n         0.00642881, 0.0042759 ]],\n\n       [[0.        , 0.        , 0.        , ..., 0.        ,\n         0.        , 0.        ],\n        [0.        , 0.        , 0.        , ..., 0.        ,\n         0.        , 0.        ],\n        [0.        , 0.        , 0.        , ..., 0.        ,\n         0.        , 0.        ],\n...\n        [0.03459594, 0.03597141, 0.03737678, ..., 0.00723614,\n         0.00544206, 0.00361807],\n        [0.03441653, 0.035792  , 0.03719737, ..., 0.00723614,\n         0.00544206, 0.00361807],\n        [0.03423713, 0.03603121, 0.03698806, ..., 0.00361807,\n         0.00272103, 0.00179409]],\n\n       [[0.        , 0.        , 0.        , ..., 0.        ,\n         0.        , 0.        ],\n        [0.        , 0.        , 0.        , ..., 0.        ,\n         0.        , 0.        ],\n        [0.        , 0.        , 0.        , ..., 0.        ,\n         0.        , 0.        ],\n        ...,\n        [0.0316656 , 0.03301117, 0.0336391 , ..., 0.00361807,\n         0.00272103, 0.00182399],\n        [0.0315759 , 0.03295136, 0.03357929, ..., 0.00361807,\n         0.00272103, 0.00182399],\n        [0.0314862 , 0.03283176, 0.03345969, ..., 0.00179409,\n         0.00134556, 0.00089704]]])\nCoordinates:\n  * x        (x) float64 -49.0 -47.0 -45.0 -43.0 -41.0 ... 93.0 95.0 97.0 99.0\n  * y        (y) float64 211.0 213.0 215.0 217.0 ... 323.0 325.0 327.0 329.0\n  * z        (z) float64 259.0 257.0 255.0 253.0 251.0 ... 9.0 7.0 5.0 3.0 1.0</pre><div class='xr-wrap' hidden><div class='xr-header'><div class='xr-obj-type'>xarray.DataArray</div><div class='xr-array-name'></div><ul class='xr-dim-list'><li><span class='xr-has-index'>y</span>: 60</li><li><span class='xr-has-index'>z</span>: 130</li><li><span class='xr-has-index'>x</span>: 75</li></ul></div><ul class='xr-sections'><li class='xr-section-item'><div class='xr-array-wrap'><input id='section-90b45666-1c39-4836-9d9a-d5b74b70978b' class='xr-array-in' type='checkbox' checked><label for='section-90b45666-1c39-4836-9d9a-d5b74b70978b' title='Show/hide data repr'><svg class='icon xr-icon-database'><use xlink:href='#icon-database'></use></svg></label><div class='xr-array-preview xr-preview'><span>0.0 0.0 0.0 0.0 0.0 ... 0.001973 0.001884 0.001794 0.001346 0.000897</span></div><div class='xr-array-data'><pre>array([[[0.        , 0.        , 0.        , ..., 0.        ,\n         0.        , 0.        ],\n        [0.        , 0.        , 0.        , ..., 0.        ,\n         0.        , 0.        ],\n        [0.        , 0.        , 0.        , ..., 0.        ,\n         0.        , 0.        ],\n        ...,\n        [0.21956613, 0.24620829, 0.25586645, ..., 0.01722322,\n         0.01291741, 0.00861161],\n        [0.21708431, 0.24339756, 0.25296601, ..., 0.01716342,\n         0.01288751, 0.00858171],\n        [0.21418387, 0.2401084 , 0.24955725, ..., 0.00855181,\n         0.00642881, 0.0042759 ]],\n\n       [[0.        , 0.        , 0.        , ..., 0.        ,\n         0.        , 0.        ],\n        [0.        , 0.        , 0.        , ..., 0.        ,\n         0.        , 0.        ],\n        [0.        , 0.        , 0.        , ..., 0.        ,\n         0.        , 0.        ],\n...\n        [0.03459594, 0.03597141, 0.03737678, ..., 0.00723614,\n         0.00544206, 0.00361807],\n        [0.03441653, 0.035792  , 0.03719737, ..., 0.00723614,\n         0.00544206, 0.00361807],\n        [0.03423713, 0.03603121, 0.03698806, ..., 0.00361807,\n         0.00272103, 0.00179409]],\n\n       [[0.        , 0.        , 0.        , ..., 0.        ,\n         0.        , 0.        ],\n        [0.        , 0.        , 0.        , ..., 0.        ,\n         0.        , 0.        ],\n        [0.        , 0.        , 0.        , ..., 0.        ,\n         0.        , 0.        ],\n        ...,\n        [0.0316656 , 0.03301117, 0.0336391 , ..., 0.00361807,\n         0.00272103, 0.00182399],\n        [0.0315759 , 0.03295136, 0.03357929, ..., 0.00361807,\n         0.00272103, 0.00182399],\n        [0.0314862 , 0.03283176, 0.03345969, ..., 0.00179409,\n         0.00134556, 0.00089704]]])</pre></div></div></li><li class='xr-section-item'><input id='section-98801ebe-df6c-4810-9521-a340f4ec114e' class='xr-section-summary-in' type='checkbox'  checked><label for='section-98801ebe-df6c-4810-9521-a340f4ec114e' class='xr-section-summary' >Coordinates: <span>(3)</span></label><div class='xr-section-inline-details'></div><div class='xr-section-details'><ul class='xr-var-list'><li class='xr-var-item'><div class='xr-var-name'><span class='xr-has-index'>x</span></div><div class='xr-var-dims'>(x)</div><div class='xr-var-dtype'>float64</div><div class='xr-var-preview xr-preview'>-49.0 -47.0 -45.0 ... 97.0 99.0</div><input id='attrs-fc53ab33-8ead-4688-91e7-5381e0906375' class='xr-var-attrs-in' type='checkbox' disabled><label for='attrs-fc53ab33-8ead-4688-91e7-5381e0906375' title='Show/Hide attributes'><svg class='icon xr-icon-file-text2'><use xlink:href='#icon-file-text2'></use></svg></label><input id='data-1de90788-8f7f-496c-9594-ed015a60be17' class='xr-var-data-in' type='checkbox'><label for='data-1de90788-8f7f-496c-9594-ed015a60be17' title='Show/Hide data repr'><svg class='icon xr-icon-database'><use xlink:href='#icon-database'></use></svg></label><div class='xr-var-attrs'><dl class='xr-attrs'></dl></div><div class='xr-var-data'><pre>array([-49., -47., -45., -43., -41., -39., -37., -35., -33., -31., -29., -27.,\n       -25., -23., -21., -19., -17., -15., -13., -11.,  -9.,  -7.,  -5.,  -3.,\n        -1.,   1.,   3.,   5.,   7.,   9.,  11.,  13.,  15.,  17.,  19.,  21.,\n        23.,  25.,  27.,  29.,  31.,  33.,  35.,  37.,  39.,  41.,  43.,  45.,\n        47.,  49.,  51.,  53.,  55.,  57.,  59.,  61.,  63.,  65.,  67.,  69.,\n        71.,  73.,  75.,  77.,  79.,  81.,  83.,  85.,  87.,  89.,  91.,  93.,\n        95.,  97.,  99.])</pre></div></li><li class='xr-var-item'><div class='xr-var-name'><span class='xr-has-index'>y</span></div><div class='xr-var-dims'>(y)</div><div class='xr-var-dtype'>float64</div><div class='xr-var-preview xr-preview'>211.0 213.0 215.0 ... 327.0 329.0</div><input id='attrs-4d6481c1-428b-420f-9801-fcf347390947' class='xr-var-attrs-in' type='checkbox' disabled><label for='attrs-4d6481c1-428b-420f-9801-fcf347390947' title='Show/Hide attributes'><svg class='icon xr-icon-file-text2'><use xlink:href='#icon-file-text2'></use></svg></label><input id='data-e60816a9-4d2e-414a-a469-6c63710351ac' class='xr-var-data-in' type='checkbox'><label for='data-e60816a9-4d2e-414a-a469-6c63710351ac' title='Show/Hide data repr'><svg class='icon xr-icon-database'><use xlink:href='#icon-database'></use></svg></label><div class='xr-var-attrs'><dl class='xr-attrs'></dl></div><div class='xr-var-data'><pre>array([211., 213., 215., 217., 219., 221., 223., 225., 227., 229., 231., 233.,\n       235., 237., 239., 241., 243., 245., 247., 249., 251., 253., 255., 257.,\n       259., 261., 263., 265., 267., 269., 271., 273., 275., 277., 279., 281.,\n       283., 285., 287., 289., 291., 293., 295., 297., 299., 301., 303., 305.,\n       307., 309., 311., 313., 315., 317., 319., 321., 323., 325., 327., 329.])</pre></div></li><li class='xr-var-item'><div class='xr-var-name'><span class='xr-has-index'>z</span></div><div class='xr-var-dims'>(z)</div><div class='xr-var-dtype'>float64</div><div class='xr-var-preview xr-preview'>259.0 257.0 255.0 ... 5.0 3.0 1.0</div><input id='attrs-6d1fcd33-7b5d-49ff-8ac4-374e6699a2c2' class='xr-var-attrs-in' type='checkbox' disabled><label for='attrs-6d1fcd33-7b5d-49ff-8ac4-374e6699a2c2' title='Show/Hide attributes'><svg class='icon xr-icon-file-text2'><use xlink:href='#icon-file-text2'></use></svg></label><input id='data-4dd6f6c8-bb1f-4e59-924a-094bacf1a81a' class='xr-var-data-in' type='checkbox'><label for='data-4dd6f6c8-bb1f-4e59-924a-094bacf1a81a' title='Show/Hide data repr'><svg class='icon xr-icon-database'><use xlink:href='#icon-database'></use></svg></label><div class='xr-var-attrs'><dl class='xr-attrs'></dl></div><div class='xr-var-data'><pre>array([259., 257., 255., 253., 251., 249., 247., 245., 243., 241., 239., 237.,\n       235., 233., 231., 229., 227., 225., 223., 221., 219., 217., 215., 213.,\n       211., 209., 207., 205., 203., 201., 199., 197., 195., 193., 191., 189.,\n       187., 185., 183., 181., 179., 177., 175., 173., 171., 169., 167., 165.,\n       163., 161., 159., 157., 155., 153., 151., 149., 147., 145., 143., 141.,\n       139., 137., 135., 133., 131., 129., 127., 125., 123., 121., 119., 117.,\n       115., 113., 111., 109., 107., 105., 103., 101.,  99.,  97.,  95.,  93.,\n        91.,  89.,  87.,  85.,  83.,  81.,  79.,  77.,  75.,  73.,  71.,  69.,\n        67.,  65.,  63.,  61.,  59.,  57.,  55.,  53.,  51.,  49.,  47.,  45.,\n        43.,  41.,  39.,  37.,  35.,  33.,  31.,  29.,  27.,  25.,  23.,  21.,\n        19.,  17.,  15.,  13.,  11.,   9.,   7.,   5.,   3.,   1.])</pre></div></li></ul></div></li><li class='xr-section-item'><input id='section-952b4d46-05f4-49f2-bc40-099508de0ff6' class='xr-section-summary-in' type='checkbox' disabled ><label for='section-952b4d46-05f4-49f2-bc40-099508de0ff6' class='xr-section-summary'  title='Expand/collapse section'>Attributes: <span>(0)</span></label><div class='xr-section-inline-details'></div><div class='xr-section-details'><dl class='xr-attrs'></dl></div></li></ul></div></div>"
     },
     "metadata": {},
     "execution_count": 22
    }
   ],
   "source": [
    "xa = xr.DataArray(\n",
    "    dose,\n",
    "    coords = {\n",
    "        'x': extents.x,\n",
    "        'y': extents.y,\n",
    "        'z': extents.z,\n",
    "    },\n",
    "    dims=['y', 'z', 'x'])\n",
    "xa"
   ]
  },
  {
   "cell_type": "code",
   "execution_count": 24,
   "metadata": {},
   "outputs": [
    {
     "output_type": "execute_result",
     "data": {
      "text/plain": [
       "(-49.0, 99.0, 211.0, 329.0, 259.0, 1.0)"
      ]
     },
     "metadata": {},
     "execution_count": 24
    }
   ],
   "source": [
    "(extents.x[0], extents.x[-1], extents.y[0], extents.y[-1], extents.z[0], extents.z[-1])"
   ]
  },
  {
   "cell_type": "code",
   "execution_count": null,
   "metadata": {},
   "outputs": [],
   "source": []
  }
 ]
}