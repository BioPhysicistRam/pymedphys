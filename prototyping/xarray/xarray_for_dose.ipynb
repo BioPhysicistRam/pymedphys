{
 "cells": [
  {
   "cell_type": "code",
   "execution_count": null,
   "metadata": {},
   "outputs": [],
   "source": [
    "from matplotlib import pyplot as plt\n",
    "import numpy as np\n",
    "import pydicom\n",
    "import xarray as xr"
   ]
  },
  {
   "cell_type": "code",
   "execution_count": null,
   "metadata": {},
   "outputs": [],
   "source": [
    "from pymedphys._data import download\n",
    "from pymedphys._dicom import constants, coords, dose\n",
    "\n",
    "import xdose"
   ]
  },
  {
   "cell_type": "code",
   "execution_count": null,
   "metadata": {},
   "outputs": [],
   "source": [
    "dicom_dose_filepaths = {orient: download.get_file_within_data_zip(\n",
    "    \"dicomorient_doses_only.zip\", f\"RD.DICOMORIENT.Dose_{orient}.dcm\"\n",
    ") for orient in constants.IMAGE_ORIENTATION_MAP}\n",
    "\n",
    "rtdoses_by_orient = {orient: pydicom.dcmread(dicom_dose_filepaths[orient]) for orient in constants.IMAGE_ORIENTATION_MAP}"
   ]
  },
  {
   "cell_type": "code",
   "execution_count": null,
   "metadata": {},
   "outputs": [],
   "source": [
    "xdoses_by_orient = {orient: xdose.xdose_from_dataset(rtdoses_by_orient[orient], coord_system=\"SUPPORT\", decimals_to_round_coords=2)  for orient in constants.IMAGE_ORIENTATION_MAP}\n",
    "\n",
    "xdoses_by_orient[\"HFS\"]"
   ]
  },
  {
   "cell_type": "code",
   "execution_count": null,
   "metadata": {},
   "outputs": [],
   "source": [
    "# Need method=\"nearest\" if exact coordinate isn't suppled to sel():\n",
    "try:\n",
    "    xdoses_by_orient[\"HFS\"].sel(x=0)\n",
    "except KeyError:\n",
    "    print(\"KeyError\")"
   ]
  },
  {
   "cell_type": "code",
   "execution_count": null,
   "metadata": {},
   "outputs": [],
   "source": [
    "xdoses_by_orient[\"HFS\"].sel(x=0, method=\"nearest\")"
   ]
  },
  {
   "cell_type": "code",
   "execution_count": null,
   "metadata": {},
   "outputs": [],
   "source": [
    "# Very easily plot dose slice, already labelled with colorbar and units\n",
    "def plot_xdose_tcs_at_point(xdose, point, coord_system=\"SUPPORT\"):\n",
    "    LAT_2_LONG_RATIO = xdose.x.size / xdose.y.size   \n",
    "    VERT_2_LONG_RATIO = xdose.z.size / xdose.y.size   \n",
    "\n",
    "    fig, axes = plt.subplots(figsize=(12, 8), ncols=2, nrows=2, gridspec_kw={\"width_ratios\":(LAT_2_LONG_RATIO,1), \"height_ratios\":(VERT_2_LONG_RATIO,1)})\n",
    "    axes[1, 1].axis('off')\n",
    "    for ax in axes.ravel():\n",
    "        ax.set_aspect(\"equal\")\n",
    "\n",
    "    try:\n",
    "        xdose.sel(y=point[1], method=\"nearest\").plot(ax=axes[0, 0], cmap=\"jet\", vmin=0, vmax=xdose.max())\n",
    "        axes[0, 0].axhline(y=point[2], color=\"silver\")\n",
    "        axes[0, 0].axvline(x=point[0], color=\"silver\")\n",
    "\n",
    "        xdose.sel(x=point[0], method=\"nearest\").T.plot(ax=axes[0, 1], cmap=\"jet\", vmin=0, vmax=xdose.max())\n",
    "        axes[0, 1].axhline(y=point[2], color=\"silver\")\n",
    "        axes[0, 1].axvline(x=point[1], color=\"silver\")\n",
    "\n",
    "        xdose.sel(z=point[2], method=\"nearest\").plot(ax=axes[1, 0], cmap=\"jet\", vmin=0, vmax=xdose.max())\n",
    "        axes[1, 0].axhline(y=point[1], color=\"silver\")\n",
    "        axes[1, 0].axvline(x=point[0], color=\"silver\")\n",
    "    except ValueError:\n",
    "        pass\n",
    "\n",
    "    fig.tight_layout()"
   ]
  },
  {
   "cell_type": "code",
   "execution_count": null,
   "metadata": {},
   "outputs": [],
   "source": [
    "# Plot at point max\n",
    "argmax = xdoses_by_orient[\"HFS\"].argmax(...)\n",
    "\n",
    "point_max = (\n",
    "    xdoses_by_orient[\"HFS\"].x[argmax['x']],\n",
    "    xdoses_by_orient[\"HFS\"].y[argmax['y']],\n",
    "    xdoses_by_orient[\"HFS\"].z[argmax['z']]\n",
    ")\n",
    "\n",
    "plot_xdose_tcs_at_point(xdose=xdoses_by_orient[\"HFS\"], point=point_max, coord_system=\"SUPPORT\")"
   ]
  },
  {
   "cell_type": "code",
   "execution_count": null,
   "metadata": {},
   "outputs": [],
   "source": [
    "# Plot HFS cup at \n",
    "\n",
    "plot_xdose_tcs_at_point(xdose=xdoses_by_orient[\"HFS\"], point=(0, -1157, 0), coord_system=\"SUPPORT\")"
   ]
  },
  {
   "cell_type": "code",
   "execution_count": null,
   "metadata": {},
   "outputs": [],
   "source": [
    "# plot HFP cup at centre\n",
    "\n",
    "plot_xdose_tcs_at_point(xdose=xdoses_by_orient[\"HFP\"], point=(0, -1157, 0), coord_system=\"SUPPORT\")\n"
   ]
  },
  {
   "cell_type": "code",
   "execution_count": null,
   "metadata": {},
   "outputs": [],
   "source": [
    "# plot FFP cup at centre\n",
    "\n",
    "plot_xdose_tcs_at_point(xdose=xdoses_by_orient[\"FFP\"], point=(0, -1157, 0), coord_system=\"SUPPORT\")\n"
   ]
  },
  {
   "cell_type": "code",
   "execution_count": null,
   "metadata": {},
   "outputs": [],
   "source": [
    "# plot FFDL cup at centre\n",
    "\n",
    "plot_xdose_tcs_at_point(xdose=xdoses_by_orient[\"FFDL\"], point=(0, -1157, 0), coord_system=\"SUPPORT\")"
   ]
  },
  {
   "cell_type": "code",
   "execution_count": null,
   "metadata": {},
   "outputs": [],
   "source": [
    "# zoom! Doesn't work yet :(\n",
    "x_start = -55\n",
    "x_end = 55\n",
    "y_start = -1225\n",
    "y_end = -1100\n",
    "z_start = -50\n",
    "z_end = 30\n",
    "xdose_ffdl_zoomed = xdoses_by_orient[\"FFDL\"].sel(x=slice(x_start, x_end), y=slice(y_start, y_end), z=slice(z_start, z_end))\n",
    "\n",
    "plot_xdose_tcs_at_point(xdose=xdose_ffdl_zoomed, point=(0, -1157, 0), coord_system=\"SUPPORT\")"
   ]
  },
  {
   "cell_type": "code",
   "execution_count": null,
   "metadata": {},
   "outputs": [],
   "source": [
    "# Lovely inbuilt interpolation too!\n",
    "\n",
    "x_new = np.linspace(xdoses_by_orient[\"FFDL\"].x[0], xdoses_by_orient[\"FFDL\"].x[-1], xdoses_by_orient[\"FFDL\"].sizes[\"x\"]*4) # Make 4x finer\n",
    "y_new = np.linspace(xdoses_by_orient[\"FFDL\"].y[0], xdoses_by_orient[\"FFDL\"].y[-1], xdoses_by_orient[\"FFDL\"].sizes[\"y\"]*4) # Make 4x finer\n",
    "z_new = np.linspace(xdoses_by_orient[\"FFDL\"].z[0], xdoses_by_orient[\"FFDL\"].z[-1], xdoses_by_orient[\"FFDL\"].sizes[\"z\"]*4) # Make 4x finer\n",
    "\n",
    "xdose_ffdl_interp = xdoses_by_orient[\"FFDL\"].interp(x=x_new, y=y_new, z=z_new)\n",
    "xdose_ffdl_interp = xdoses_by_orient[\"FFDL\"].sel(y=0, method=\"nearest\")"
   ]
  },
  {
   "cell_type": "code",
   "execution_count": null,
   "metadata": {},
   "outputs": [],
   "source": [
    "plot_xdose_tcs_at_point(xdose=xdose_ffdl_interp, point=(0, -1157, 0), coord_system=\"SUPPORT\")"
   ]
  }
 ],
 "metadata": {
  "kernelspec": {
   "display_name": "Python 3.7.9 64-bit",
   "metadata": {
    "interpreter": {
     "hash": "d9ce22c6de45e42563a5ae00e2d764113bb10dc3ac2e1e635a628c0814045e6a"
    }
   },
   "name": "python3"
  },
  "language_info": {
   "codemirror_mode": {
    "name": "ipython",
    "version": 3
   },
   "file_extension": ".py",
   "mimetype": "text/x-python",
   "name": "python",
   "nbconvert_exporter": "python",
   "pygments_lexer": "ipython3",
   "version": "3.7.9-final"
  }
 },
 "nbformat": 4,
 "nbformat_minor": 2
}
