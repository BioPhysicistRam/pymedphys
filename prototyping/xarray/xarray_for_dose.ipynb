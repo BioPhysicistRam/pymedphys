{
 "cells": [
  {
   "cell_type": "markdown",
   "metadata": {},
   "source": [
    "Please note that I believe there might be some existing errors in coord extraction below. Indeed, part of the motivation of this exploration is to correct these errors and make it as easy as possible not to repeat them in user code."
   ]
  },
  {
   "cell_type": "code",
   "execution_count": null,
   "metadata": {},
   "outputs": [],
   "source": [
    "import numpy as np\n",
    "import pydicom\n",
    "import xarray as xr"
   ]
  },
  {
   "cell_type": "code",
   "execution_count": null,
   "metadata": {},
   "outputs": [],
   "source": [
    "from pymedphys._data import download\n",
    "from pymedphys._dicom import coords, dose"
   ]
  },
  {
   "cell_type": "code",
   "execution_count": null,
   "metadata": {},
   "outputs": [],
   "source": [
    "dicom_dose_filepath = download.get_file_within_data_zip(\n",
    "    \"dicom_dose_test_data.zip\", \"RD.wedge.dcm\"\n",
    ")\n",
    "ds = pydicom.dcmread(dicom_dose_filepath)"
   ]
  },
  {
   "cell_type": "code",
   "execution_count": null,
   "metadata": {},
   "outputs": [],
   "source": [
    "dose = dose.dose_from_dataset(ds)\n",
    "dose.shape"
   ]
  },
  {
   "cell_type": "code",
   "execution_count": null,
   "metadata": {},
   "outputs": [],
   "source": [
    "extents = coords.xyz_axes_from_dataset(ds, coord_system=\"IEC FIXED\")"
   ]
  },
  {
   "cell_type": "code",
   "execution_count": null,
   "metadata": {},
   "outputs": [],
   "source": [
    "dose_arr = xr.DataArray(\n",
    "    dose,\n",
    "    coords = {\n",
    "        'x': extents[0],\n",
    "        'y': extents[1],\n",
    "        'z': extents[2],\n",
    "    },\n",
    "    dims=['y', 'z', 'x'],\n",
    "    name=\"dose\",\n",
    "    attrs={\n",
    "        \"units\":\"Gy\",\n",
    "        \"long_name\": \"Dose to water from wedged field.\"\n",
    "    }\n",
    ")"
   ]
  },
  {
   "cell_type": "code",
   "execution_count": null,
   "metadata": {},
   "outputs": [],
   "source": [
    "dose_arr.x"
   ]
  },
  {
   "cell_type": "code",
   "execution_count": null,
   "metadata": {},
   "outputs": [],
   "source": [
    "dose_arr.y"
   ]
  },
  {
   "cell_type": "code",
   "execution_count": null,
   "metadata": {},
   "outputs": [],
   "source": [
    "dose_arr.z"
   ]
  },
  {
   "cell_type": "code",
   "execution_count": null,
   "metadata": {},
   "outputs": [],
   "source": [
    "# Need method=\"nearest\" if exact coordinate isn't suppled to sel():\n",
    "try:\n",
    "    dose_arr.sel(x=0)\n",
    "except KeyError:\n",
    "    print(\"KeyError\")"
   ]
  },
  {
   "cell_type": "code",
   "execution_count": null,
   "metadata": {},
   "outputs": [],
   "source": [
    "dose_arr.sel(x=0, method=\"nearest\")"
   ]
  },
  {
   "cell_type": "code",
   "execution_count": null,
   "metadata": {},
   "outputs": [],
   "source": [
    "# Very easily plot dose slice, already labelled with colorbar and units\n",
    "dose_arr.sel(y=0, method=\"nearest\").plot(cmap=\"jet\", figsize=(8,6), aspect=\"equal\") #Notice we asked for y=0, but plotting y=211 (closest slice)"
   ]
  },
  {
   "cell_type": "code",
   "execution_count": null,
   "metadata": {},
   "outputs": [],
   "source": [
    "# Lovely inbuilt interpolation too!\n",
    "\n",
    "x_new = np.linspace(dose_arr.x[0], dose_arr.x[-1], dose_arr.sizes[\"x\"]*4) # Make 4x finer\n",
    "y_new = np.linspace(dose_arr.y[0], dose_arr.y[-1], dose_arr.sizes[\"y\"]*4) # Make 4x finer\n",
    "z_new = np.linspace(dose_arr.z[0], dose_arr.z[-1], dose_arr.sizes[\"z\"]*4) # Make 4x finer\n",
    "\n",
    "dose_arr_interp = dose_arr.interp(x=x_new, y=y_new, z=z_new)\n",
    "dose_arr_interp.sel(y=0, method=\"nearest\").plot(cmap=\"jet\", figsize=(8,6), aspect=\"equal\")"
   ]
  },
  {
   "cell_type": "code",
   "execution_count": null,
   "metadata": {},
   "outputs": [],
   "source": [
    "# Can perhaps add coordinate system and patient orientation (where applicable) as attrs?\n",
    "\n",
    "dose_arr.attrs[\"coord_system\"]=\"IEC FIXED\"\n",
    "dose_arr.attrs[\"orientation\"]=\"HFS\"\n",
    "dose_arr # see bottom"
   ]
  },
  {
   "cell_type": "code",
   "execution_count": null,
   "metadata": {},
   "outputs": [],
   "source": [
    "# And then use swap_dims() and negations where required to change coord_system?\n",
    " \n",
    "def change_xarray_coord_system_from_fixed_to_dicom(dose_arr): # generalise in lib but just demo for now\n",
    "    \n",
    "    new_dose_arr = dose_arr.rename(\n",
    "        {\n",
    "            \"z\": \"y\",\n",
    "            \"y\": \"z\"\n",
    "        }\n",
    "    )\n",
    "\n",
    "    new_dose_arr[\"y\"] = -new_dose_arr[\"y\"]\n",
    "    new_dose_arr.attrs[\"coord_system\"] = \"DICOM\"\n",
    "\n",
    "    return new_dose_arr"
   ]
  },
  {
   "cell_type": "code",
   "execution_count": null,
   "metadata": {},
   "outputs": [],
   "source": [
    "dose_arr.coords"
   ]
  },
  {
   "cell_type": "code",
   "execution_count": null,
   "metadata": {},
   "outputs": [],
   "source": [
    "dose_arr_dicomCS = change_xarray_coord_system_from_fixed_to_dicom(dose_arr)\n",
    "\n",
    "dose_arr_dicomCS.coords # Note swapping of y and z (DICOM at HFS) and negative y values (positive z before)"
   ]
  },
  {
   "cell_type": "code",
   "execution_count": null,
   "metadata": {},
   "outputs": [],
   "source": [
    "dose_arr_dicomCS.attrs[\"coord_system\"]"
   ]
  },
  {
   "cell_type": "code",
   "execution_count": null,
   "metadata": {},
   "outputs": [],
   "source": [
    "# Notice this is the same slice as before (since we chose z=0), but labelled according to the new (DICOM) coord system. It is flipped vertically because the 'y' in DICOM is negative relative to 'z\" in IEC FIXED. The plot function sorts the ordinate labels to be increasing from the bottom, and flips the dose data accordingly. Not sure where this is happening but should be easy to either disable or workaround (I think people are used to visualising in a FIXED system, so I believe it is better to simply reverse labels). \n",
    "dose_arr_dicomCS.sel(z=0, method=\"nearest\").plot(cmap=\"jet\", figsize=(8,6), aspect=\"equal\") "
   ]
  },
  {
   "cell_type": "code",
   "execution_count": null,
   "metadata": {},
   "outputs": [],
   "source": []
  }
 ],
 "metadata": {
  "kernelspec": {
   "display_name": "VPython",
   "language": "python",
   "name": "vpython"
  },
  "language_info": {
   "codemirror_mode": {
    "name": "ipython",
    "version": 3
   },
   "file_extension": ".py",
   "mimetype": "text/x-python",
   "name": "python",
   "nbconvert_exporter": "python",
   "pygments_lexer": "ipython3",
   "version": "3.8.5-final"
  }
 },
 "nbformat": 4,
 "nbformat_minor": 2
}
