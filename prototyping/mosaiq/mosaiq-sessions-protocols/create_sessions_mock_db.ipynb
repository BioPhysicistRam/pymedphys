{
 "cells": [
  {
   "source": [
    "# Mock Mosaiq DB for testing session offset logic\n",
    "This notebook uses the [pandas.DataFrame.to_sql](https://pandas.pydata.org/pandas-docs/stable/reference/api/pandas.DataFrame.to_sql.html) function to create a mock database with slimmed-down Site, Offset, and Dose_Hst tables.  These DataFrames are populated from randomly generated data."
   ],
   "cell_type": "markdown",
   "metadata": {}
  },
  {
   "cell_type": "markdown",
   "metadata": {},
   "source": [
    "## Define protocols and treatment techniques\n",
    "For each mock tx sites, randomly chosen:\n",
    "* number of fractions\n",
    "* treatment techniques, which determines the number of fields\n",
    "* trending/imaging protocols, encoded in the Site Notes column\n",
    "\n",
    "There are three trending/imaging protocols defined:\n",
    "* weekly verification imaging -- for example imaging every Friday.  assumes that a session offset is created to record the magnitude of the shift\n",
    "* daily imaging -- image daily and compute a session offset\n",
    "* NAL protocol -- image daily and compute session offset for the first 4 sessions, then weekly verification.  \n",
    "\n",
    "Each protocol is characterized by the probability of a session offset being generated for each session.  This probability changes for the NAL protocol, so a function of session number is defined for each protocol.\n",
    "\n",
    "See Lozano, Eva M., et al. \"Correction of systematic set-up error in breast and head and neck irradiation through a no-action level (NAL) protocol.\" Clinical and Translational Oncology 13.1 (2011): 34-42."
   ]
  },
  {
   "cell_type": "code",
   "execution_count": 24,
   "metadata": {},
   "outputs": [],
   "source": [
    "# vary the number of fractions a bit\n",
    "number_of_fractions = [20, 25, 30]\n",
    "\n",
    "# dict that represents the number of fields for a few named techniques\n",
    "field_count_by_technique_names = {\n",
    "    '4-fld': 4, \n",
    "    '5-fld': 5, \n",
    "    '7-fld': 7 \n",
    "}\n",
    "\n",
    "# dict of functions that return the percent of sessions \n",
    "# with an offset, as a function of session number\n",
    "prob_offset_by_protocol = {\n",
    "    'weekly': lambda _: 20,  # always 20% ~ once per week\n",
    "    'daily': lambda _: 90,   # always 90% ~ daily, with occasional misses\n",
    "    'nal': lambda session_num: 95 if session_num <= 4 else 20\n",
    "}"
   ]
  },
  {
   "cell_type": "markdown",
   "metadata": {},
   "source": [
    "Given these definitions, generate a list of sites by randomly choosing the protocol, treatment technique, and number of fractions.\n",
    "\n",
    "Encode the sites on a pandas DataFrame, and then add the columns to support the Mosaiq versioned entity for sites (i.e. SIT_SET_ID and Version)."
   ]
  },
  {
   "cell_type": "code",
   "execution_count": 25,
   "metadata": {},
   "outputs": [
    {
     "output_type": "display_data",
     "data": {
      "text/plain": "     Notes Technique  Fractions  Pat_ID1  SIT_SET_ID  Version Site_Name\n1    daily     7-fld         30    10001           1        0       rx1\n2    daily     4-fld         20    10002           2        0       rx1\n3    daily     4-fld         20    10003           3        0       rx1\n4     enal     7-fld         30    10004           4        0       rx1\n5     enal     7-fld         30    10005           5        0       rx1\n6     enal     4-fld         30    10006           6        0       rx1\n7     enal     7-fld         30    10007           7        0       rx1\n8    daily     7-fld         30    10008           8        0       rx1\n9   weekly     7-fld         20    10009           9        0       rx1\n10  weekly     4-fld         20    10010          10        0       rx1",
      "text/html": "<div>\n<style scoped>\n    .dataframe tbody tr th:only-of-type {\n        vertical-align: middle;\n    }\n\n    .dataframe tbody tr th {\n        vertical-align: top;\n    }\n\n    .dataframe thead th {\n        text-align: right;\n    }\n</style>\n<table border=\"1\" class=\"dataframe\">\n  <thead>\n    <tr style=\"text-align: right;\">\n      <th></th>\n      <th>Notes</th>\n      <th>Technique</th>\n      <th>Fractions</th>\n      <th>Pat_ID1</th>\n      <th>SIT_SET_ID</th>\n      <th>Version</th>\n      <th>Site_Name</th>\n    </tr>\n  </thead>\n  <tbody>\n    <tr>\n      <th>1</th>\n      <td>daily</td>\n      <td>7-fld</td>\n      <td>30</td>\n      <td>10001</td>\n      <td>1</td>\n      <td>0</td>\n      <td>rx1</td>\n    </tr>\n    <tr>\n      <th>2</th>\n      <td>daily</td>\n      <td>4-fld</td>\n      <td>20</td>\n      <td>10002</td>\n      <td>2</td>\n      <td>0</td>\n      <td>rx1</td>\n    </tr>\n    <tr>\n      <th>3</th>\n      <td>daily</td>\n      <td>4-fld</td>\n      <td>20</td>\n      <td>10003</td>\n      <td>3</td>\n      <td>0</td>\n      <td>rx1</td>\n    </tr>\n    <tr>\n      <th>4</th>\n      <td>enal</td>\n      <td>7-fld</td>\n      <td>30</td>\n      <td>10004</td>\n      <td>4</td>\n      <td>0</td>\n      <td>rx1</td>\n    </tr>\n    <tr>\n      <th>5</th>\n      <td>enal</td>\n      <td>7-fld</td>\n      <td>30</td>\n      <td>10005</td>\n      <td>5</td>\n      <td>0</td>\n      <td>rx1</td>\n    </tr>\n    <tr>\n      <th>6</th>\n      <td>enal</td>\n      <td>4-fld</td>\n      <td>30</td>\n      <td>10006</td>\n      <td>6</td>\n      <td>0</td>\n      <td>rx1</td>\n    </tr>\n    <tr>\n      <th>7</th>\n      <td>enal</td>\n      <td>7-fld</td>\n      <td>30</td>\n      <td>10007</td>\n      <td>7</td>\n      <td>0</td>\n      <td>rx1</td>\n    </tr>\n    <tr>\n      <th>8</th>\n      <td>daily</td>\n      <td>7-fld</td>\n      <td>30</td>\n      <td>10008</td>\n      <td>8</td>\n      <td>0</td>\n      <td>rx1</td>\n    </tr>\n    <tr>\n      <th>9</th>\n      <td>weekly</td>\n      <td>7-fld</td>\n      <td>20</td>\n      <td>10009</td>\n      <td>9</td>\n      <td>0</td>\n      <td>rx1</td>\n    </tr>\n    <tr>\n      <th>10</th>\n      <td>weekly</td>\n      <td>4-fld</td>\n      <td>20</td>\n      <td>10010</td>\n      <td>10</td>\n      <td>0</td>\n      <td>rx1</td>\n    </tr>\n  </tbody>\n</table>\n</div>"
     },
     "metadata": {}
    }
   ],
   "source": [
    "import pandas as pd\n",
    "from random import randint, choices\n",
    "from datetime import datetime, timedelta\n",
    "from decimal import Decimal\n",
    "\n",
    "site_count = 10   # how many site records to create?\n",
    "\n",
    "# the site names are formed from a chosen protocol\n",
    "site_notes = choices(list(prob_offset_by_protocol.keys()),\n",
    "                     weights=[1,1,1], k=site_count)\n",
    "\n",
    "# the treatment technique is chosen from the list of keys\n",
    "site_techniques = choices(list(field_count_by_technique_names.keys()), \n",
    "                          weights=[2,1,3], k=site_count)\n",
    "\n",
    "# choose the number of fractions\n",
    "site_fractions = choices(number_of_fractions, \n",
    "                        weights=[1,2,3], k=site_count)\n",
    "\n",
    "# now create the dataframe\n",
    "site_df = pd.DataFrame(zip(site_notes, site_techniques, site_fractions),\n",
    "                        columns=['Notes', 'Technique', 'Fractions'])\n",
    "site_df.index += 1   # index = SIT_ID, so start from 1\n",
    "site_df['Pat_ID1'] = site_df.index + 10000   # use the SIT_ID+10000 as the Pat_ID1\n",
    "site_df['SIT_SET_ID'] = site_df.index\n",
    "site_df['Version'] = 0\n",
    "site_df['Site_Name'] = 'rx1'\n",
    "display(site_df)"
   ]
  },
  {
   "cell_type": "markdown",
   "metadata": {},
   "source": [
    "## Generate treatment records for each site\n",
    "For each site we pick a time to begin the treatment sessions, and then start generating sessions (Dose_Hst and Offset) based on the site parameters.\n",
    "\n",
    "The sessions are formed based on both a starting date and an appointment time.\n",
    "* Treatments occur at roughly the same time each workday\n",
    "* Offsets happen at a frequency determined by the specified protocol\n",
    "* Offset shift values are randomly generated\n",
    "* Dose_Hst records are created based on the number of fractions, with randomly generated FLD_IDs"
   ]
  },
  {
   "cell_type": "code",
   "execution_count": 28,
   "metadata": {},
   "outputs": [
    {
     "output_type": "stream",
     "name": "stdout",
     "text": [
      "Generated 131 offsets and 1550 dose_hst records\n"
     ]
    }
   ],
   "source": [
    "import re\n",
    "from decimal import Decimal\n",
    "\n",
    "# lists to store the offsets and dose_hst records\n",
    "offset_recs, dose_hst_recs = [], []\n",
    "\n",
    "# iterate over the rows in the site dataframe\n",
    "for sit_id, site_rec in site_df.iterrows():\n",
    "    # extract site description from the record\n",
    "    pat_id1 = site_rec['Pat_ID1']\n",
    "    sit_set_id = site_rec['SIT_SET_ID']\n",
    "    fractions = site_rec['Fractions']\n",
    "    protocol = re.match('([a-z]*)',site_rec['Notes']).groups()[0]\n",
    "    fld_count = field_count_by_technique_names[site_rec['Technique']]\n",
    "    fld_ids = [randint(1000,4000) for _ in range(fld_count)]\n",
    "    \n",
    "    # pick a date for beginning the treatment, as a workday number in the year\n",
    "    session_workday = randint(0,200)\n",
    "    # pick the appointment time between 8AM and 5pm\n",
    "    appointment_time = timedelta(hours=randint(8,17))\n",
    "    for n in range(fractions):\n",
    "        # determine the session date for the current workday\n",
    "        session_date_str = f\"2021-W{session_workday//5+1}-{session_workday%5+1}\"\n",
    "        session_date = datetime.strptime(session_date_str, '%Y-W%W-%w')\n",
    "        \n",
    "        # and add the appointment time\n",
    "        session_time = session_date + appointment_time\n",
    "        \n",
    "        # choose whether to generate an offset record\n",
    "        if randint(0,100) < prob_offset_by_protocol[protocol](n):\n",
    "            session_time += timedelta(minutes=randint(2,5))\n",
    "            offset_recs.append((sit_set_id, session_time,\n",
    "                                1, # Offset_State: 1=Active, 2=Complete\n",
    "                                3, # Offset_Type: 3=Portal, 4=ThirdParty\n",
    "                                Decimal(randint(-50, 50))/10, # Superior_Offset\n",
    "                                Decimal(randint(-50, 50))/10, # Anterior_Offset\n",
    "                                Decimal(randint(-50, 50))/10  # Lateral_Offset\n",
    "                               ))\n",
    "            \n",
    "        # generate dose_hst by field count\n",
    "        for fld_id in fld_ids:\n",
    "            session_time += timedelta(minutes=randint(3,6))\n",
    "            dose_hst_recs.append((pat_id1, sit_id, fld_id, session_time))\n",
    "\n",
    "        # occasionally skip a workday\n",
    "        session_workday += 1 if randint(0,5) else 2\n",
    "\n",
    "print(f\"Generated {len(offset_recs)} offsets \"\n",
    "      f\"and {len(dose_hst_recs)} dose_hst records\")"
   ]
  },
  {
   "cell_type": "markdown",
   "metadata": {},
   "source": [
    "Create the Dose_Hst dataframe with appropriate column names and primary key."
   ]
  },
  {
   "cell_type": "code",
   "execution_count": 29,
   "metadata": {},
   "outputs": [
    {
     "output_type": "display_data",
     "data": {
      "text/plain": "      Pat_ID1  SIT_ID  FLD_ID             Tx_DtTm\n1       10001       1    1747 2021-07-07 10:03:00\n2       10001       1    1492 2021-07-07 10:06:00\n3       10001       1    2731 2021-07-07 10:10:00\n4       10001       1    1781 2021-07-07 10:16:00\n5       10001       1    1461 2021-07-07 10:22:00\n...       ...     ...     ...                 ...\n1546    10010      10    2833 2021-10-20 10:25:00\n1547    10010      10    3659 2021-10-21 10:06:00\n1548    10010      10    2368 2021-10-21 10:11:00\n1549    10010      10    3801 2021-10-21 10:14:00\n1550    10010      10    2833 2021-10-21 10:18:00\n\n[1550 rows x 4 columns]",
      "text/html": "<div>\n<style scoped>\n    .dataframe tbody tr th:only-of-type {\n        vertical-align: middle;\n    }\n\n    .dataframe tbody tr th {\n        vertical-align: top;\n    }\n\n    .dataframe thead th {\n        text-align: right;\n    }\n</style>\n<table border=\"1\" class=\"dataframe\">\n  <thead>\n    <tr style=\"text-align: right;\">\n      <th></th>\n      <th>Pat_ID1</th>\n      <th>SIT_ID</th>\n      <th>FLD_ID</th>\n      <th>Tx_DtTm</th>\n    </tr>\n  </thead>\n  <tbody>\n    <tr>\n      <th>1</th>\n      <td>10001</td>\n      <td>1</td>\n      <td>1747</td>\n      <td>2021-07-07 10:03:00</td>\n    </tr>\n    <tr>\n      <th>2</th>\n      <td>10001</td>\n      <td>1</td>\n      <td>1492</td>\n      <td>2021-07-07 10:06:00</td>\n    </tr>\n    <tr>\n      <th>3</th>\n      <td>10001</td>\n      <td>1</td>\n      <td>2731</td>\n      <td>2021-07-07 10:10:00</td>\n    </tr>\n    <tr>\n      <th>4</th>\n      <td>10001</td>\n      <td>1</td>\n      <td>1781</td>\n      <td>2021-07-07 10:16:00</td>\n    </tr>\n    <tr>\n      <th>5</th>\n      <td>10001</td>\n      <td>1</td>\n      <td>1461</td>\n      <td>2021-07-07 10:22:00</td>\n    </tr>\n    <tr>\n      <th>...</th>\n      <td>...</td>\n      <td>...</td>\n      <td>...</td>\n      <td>...</td>\n    </tr>\n    <tr>\n      <th>1546</th>\n      <td>10010</td>\n      <td>10</td>\n      <td>2833</td>\n      <td>2021-10-20 10:25:00</td>\n    </tr>\n    <tr>\n      <th>1547</th>\n      <td>10010</td>\n      <td>10</td>\n      <td>3659</td>\n      <td>2021-10-21 10:06:00</td>\n    </tr>\n    <tr>\n      <th>1548</th>\n      <td>10010</td>\n      <td>10</td>\n      <td>2368</td>\n      <td>2021-10-21 10:11:00</td>\n    </tr>\n    <tr>\n      <th>1549</th>\n      <td>10010</td>\n      <td>10</td>\n      <td>3801</td>\n      <td>2021-10-21 10:14:00</td>\n    </tr>\n    <tr>\n      <th>1550</th>\n      <td>10010</td>\n      <td>10</td>\n      <td>2833</td>\n      <td>2021-10-21 10:18:00</td>\n    </tr>\n  </tbody>\n</table>\n<p>1550 rows × 4 columns</p>\n</div>"
     },
     "metadata": {}
    }
   ],
   "source": [
    "dose_hst_df = pd.DataFrame(dose_hst_recs, \n",
    "                           columns=['Pat_ID1', 'SIT_ID', 'FLD_ID', 'Tx_DtTm'])\n",
    "dose_hst_df.index += 1  # start ID at 1\n",
    "display(dose_hst_df)"
   ]
  },
  {
   "cell_type": "markdown",
   "metadata": {},
   "source": [
    "Create the Offset dataframe with the versioned entity columns and the three translational offset components."
   ]
  },
  {
   "cell_type": "code",
   "execution_count": 30,
   "metadata": {},
   "outputs": [
    {
     "output_type": "display_data",
     "data": {
      "text/plain": "     SIT_SET_ID          Study_DtTm  Offset_State  Offset_Type  \\\n1             1 2021-07-08 10:04:00             1            3   \n2             1 2021-07-12 10:02:00             1            3   \n3             1 2021-07-13 10:05:00             1            3   \n4             1 2021-07-14 10:03:00             1            3   \n5             1 2021-07-19 10:05:00             1            3   \n..          ...                 ...           ...          ...   \n127           9 2021-04-12 14:04:00             1            3   \n128           9 2021-04-27 14:04:00             1            3   \n129          10 2021-09-30 10:02:00             1            3   \n130          10 2021-10-19 10:05:00             1            3   \n131          10 2021-10-20 10:04:00             1            3   \n\n    Superior_Offset Anterior_Offset Lateral_Offset  OFF_SET_ID  Version  \n1               4.6            -4.3           -3.1           1        0  \n2               1.5             3.6           -1.1           2        0  \n3              -3.7            -2.7             -3           3        0  \n4               4.5             2.7           -2.4           4        0  \n5               2.2              -3           -0.1           5        0  \n..              ...             ...            ...         ...      ...  \n127             3.6             3.1           -4.3         127        0  \n128             2.6            -0.1              4         128        0  \n129            -0.5            -3.6           -2.4         129        0  \n130            -0.3            -2.2              0         130        0  \n131             1.9            -3.6           -4.5         131        0  \n\n[131 rows x 9 columns]",
      "text/html": "<div>\n<style scoped>\n    .dataframe tbody tr th:only-of-type {\n        vertical-align: middle;\n    }\n\n    .dataframe tbody tr th {\n        vertical-align: top;\n    }\n\n    .dataframe thead th {\n        text-align: right;\n    }\n</style>\n<table border=\"1\" class=\"dataframe\">\n  <thead>\n    <tr style=\"text-align: right;\">\n      <th></th>\n      <th>SIT_SET_ID</th>\n      <th>Study_DtTm</th>\n      <th>Offset_State</th>\n      <th>Offset_Type</th>\n      <th>Superior_Offset</th>\n      <th>Anterior_Offset</th>\n      <th>Lateral_Offset</th>\n      <th>OFF_SET_ID</th>\n      <th>Version</th>\n    </tr>\n  </thead>\n  <tbody>\n    <tr>\n      <th>1</th>\n      <td>1</td>\n      <td>2021-07-08 10:04:00</td>\n      <td>1</td>\n      <td>3</td>\n      <td>4.6</td>\n      <td>-4.3</td>\n      <td>-3.1</td>\n      <td>1</td>\n      <td>0</td>\n    </tr>\n    <tr>\n      <th>2</th>\n      <td>1</td>\n      <td>2021-07-12 10:02:00</td>\n      <td>1</td>\n      <td>3</td>\n      <td>1.5</td>\n      <td>3.6</td>\n      <td>-1.1</td>\n      <td>2</td>\n      <td>0</td>\n    </tr>\n    <tr>\n      <th>3</th>\n      <td>1</td>\n      <td>2021-07-13 10:05:00</td>\n      <td>1</td>\n      <td>3</td>\n      <td>-3.7</td>\n      <td>-2.7</td>\n      <td>-3</td>\n      <td>3</td>\n      <td>0</td>\n    </tr>\n    <tr>\n      <th>4</th>\n      <td>1</td>\n      <td>2021-07-14 10:03:00</td>\n      <td>1</td>\n      <td>3</td>\n      <td>4.5</td>\n      <td>2.7</td>\n      <td>-2.4</td>\n      <td>4</td>\n      <td>0</td>\n    </tr>\n    <tr>\n      <th>5</th>\n      <td>1</td>\n      <td>2021-07-19 10:05:00</td>\n      <td>1</td>\n      <td>3</td>\n      <td>2.2</td>\n      <td>-3</td>\n      <td>-0.1</td>\n      <td>5</td>\n      <td>0</td>\n    </tr>\n    <tr>\n      <th>...</th>\n      <td>...</td>\n      <td>...</td>\n      <td>...</td>\n      <td>...</td>\n      <td>...</td>\n      <td>...</td>\n      <td>...</td>\n      <td>...</td>\n      <td>...</td>\n    </tr>\n    <tr>\n      <th>127</th>\n      <td>9</td>\n      <td>2021-04-12 14:04:00</td>\n      <td>1</td>\n      <td>3</td>\n      <td>3.6</td>\n      <td>3.1</td>\n      <td>-4.3</td>\n      <td>127</td>\n      <td>0</td>\n    </tr>\n    <tr>\n      <th>128</th>\n      <td>9</td>\n      <td>2021-04-27 14:04:00</td>\n      <td>1</td>\n      <td>3</td>\n      <td>2.6</td>\n      <td>-0.1</td>\n      <td>4</td>\n      <td>128</td>\n      <td>0</td>\n    </tr>\n    <tr>\n      <th>129</th>\n      <td>10</td>\n      <td>2021-09-30 10:02:00</td>\n      <td>1</td>\n      <td>3</td>\n      <td>-0.5</td>\n      <td>-3.6</td>\n      <td>-2.4</td>\n      <td>129</td>\n      <td>0</td>\n    </tr>\n    <tr>\n      <th>130</th>\n      <td>10</td>\n      <td>2021-10-19 10:05:00</td>\n      <td>1</td>\n      <td>3</td>\n      <td>-0.3</td>\n      <td>-2.2</td>\n      <td>0</td>\n      <td>130</td>\n      <td>0</td>\n    </tr>\n    <tr>\n      <th>131</th>\n      <td>10</td>\n      <td>2021-10-20 10:04:00</td>\n      <td>1</td>\n      <td>3</td>\n      <td>1.9</td>\n      <td>-3.6</td>\n      <td>-4.5</td>\n      <td>131</td>\n      <td>0</td>\n    </tr>\n  </tbody>\n</table>\n<p>131 rows × 9 columns</p>\n</div>"
     },
     "metadata": {}
    }
   ],
   "source": [
    "offset_df = pd.DataFrame(offset_recs, \n",
    "                         columns=[\n",
    "                             'SIT_SET_ID', \n",
    "                             'Study_DtTm',\n",
    "                             'Offset_State',\n",
    "                             'Offset_Type',\n",
    "                             'Superior_Offset', \n",
    "                             'Anterior_Offset', \n",
    "                             'Lateral_Offset'])\n",
    "offset_df.index += 1  # start ID at 1\n",
    "offset_df['OFF_SET_ID'] = offset_df.index\n",
    "offset_df['Version'] = [0] * len(offset_df)\n",
    "display(offset_df)"
   ]
  },
  {
   "cell_type": "markdown",
   "metadata": {},
   "source": [
    "## Populate SQL tables for Site, Offset, and Dose_Hst\n",
    "Using the pandas [DataFrame.to_sql](https://pandas.pydata.org/pandas-docs/stable/reference/api/pandas.DataFrame.to_sql.html) function, populate tables from the dataframes, initially in a database name *MosaiqTest94086* (to avoiding conflicting with an existing Mosaiq DB)\n",
    "* Site from site_df\n",
    "* Offset from offset_df\n",
    "* Dose_Hst from dose_hst_df"
   ]
  },
  {
   "cell_type": "code",
   "execution_count": 32,
   "metadata": {
    "scrolled": false
   },
   "outputs": [],
   "source": [
    "from sqlalchemy import create_engine\n",
    "\n",
    "msq_server = '.'\n",
    "test_db_name = 'MosaiqTest94086'\n",
    "conn_str = f\"mssql+pymssql://{msq_server}/{test_db_name}\"\n",
    "\n",
    "engine = create_engine(conn_str, echo=False)\n",
    "\n",
    "site_df.to_sql('Site', engine, if_exists='replace', index=True, index_label='SIT_ID')\n",
    "offset_df.to_sql('Offset', engine, if_exists='replace', index=True, index_label='OFF_ID')\n",
    "dose_hst_df.to_sql('Dose_Hst', engine, if_exists='replace', index=True, index_label='DHS_ID')"
   ]
  },
  {
   "cell_type": "markdown",
   "metadata": {},
   "source": [
    "## Rename test database to Mosaiq\n",
    "*pymedphys expects the database to be named __Mosaiq__, so the database has to be manually changed to that at this point*\n",
    "\n",
    "In a SQL query window, with appropriate permissions, the following script will change the name to __Mosaiq__:\n",
    "```\n",
    "use master\n",
    "ALTER DATABASE MosaiqTest94086 SET SINGLE_USER WITH ROLLBACK IMMEDIATE    \n",
    "ALTER DATABASE MosaiqTest94086 MODIFY NAME = Mosaiq\n",
    "ALTER DATABASE Mosaiq SET MULTI_USER\n",
    "```"
   ]
  },
  {
   "cell_type": "markdown",
   "metadata": {},
   "source": [
    "## Query for Sites\n",
    "With the database name changed to __Mosaiq__, pymedphys can be used to query for sites in the Site table, selecting only the tip version.  \n",
    "\n",
    "We will fetch the first site and store the SIT_ID and SIT_SET_ID, to be used for subsequent queries."
   ]
  },
  {
   "cell_type": "code",
   "execution_count": 33,
   "metadata": {},
   "outputs": [
    {
     "output_type": "stream",
     "name": "stdout",
     "text": [
      "SIT_ID:1  SIT_SET_ID:1  Site_Name:rx1  Notes:daily\nSIT_ID:2  SIT_SET_ID:2  Site_Name:rx1  Notes:daily\nSIT_ID:3  SIT_SET_ID:3  Site_Name:rx1  Notes:daily\nSIT_ID:4  SIT_SET_ID:4  Site_Name:rx1  Notes:enal\nSIT_ID:5  SIT_SET_ID:5  Site_Name:rx1  Notes:enal\nSIT_ID:6  SIT_SET_ID:6  Site_Name:rx1  Notes:enal\nSIT_ID:7  SIT_SET_ID:7  Site_Name:rx1  Notes:enal\nSIT_ID:8  SIT_SET_ID:8  Site_Name:rx1  Notes:daily\nSIT_ID:9  SIT_SET_ID:9  Site_Name:rx1  Notes:weekly\nSIT_ID:10  SIT_SET_ID:10  Site_Name:rx1  Notes:weekly\n"
     ]
    }
   ],
   "source": [
    "from pymedphys import mosaiq\n",
    "\n",
    "with mosaiq.connect(msq_server) as cursor:\n",
    "    result = mosaiq.execute(cursor,\n",
    "        \"\"\"\n",
    "        SELECT \n",
    "            SIT_ID, \n",
    "            SIT_SET_ID, \n",
    "            Site_Name,\n",
    "            Notes\n",
    "        FROM Site \n",
    "        WHERE \n",
    "            Version = 0\n",
    "        \"\"\")\n",
    "        \n",
    "    for site in result:\n",
    "        sit_id, sit_set_id = site[0], site[1]\n",
    "        print(f\"SIT_ID:{sit_id}  SIT_SET_ID:{sit_set_id}  Site_Name:{site[2]}  Notes:{site[3]}\")"
   ]
  },
  {
   "cell_type": "markdown",
   "metadata": {},
   "source": [
    "Now that the database is ready, try the [demo_session_offsets](./demo_session_offsets.ipynb) notebook to look at some more complex logic."
   ]
  },
  {
   "cell_type": "code",
   "execution_count": null,
   "metadata": {},
   "outputs": [],
   "source": []
  }
 ],
 "metadata": {
  "kernelspec": {
   "display_name": "Python 3",
   "language": "python",
   "name": "python3"
  },
  "language_info": {
   "codemirror_mode": {
    "name": "ipython",
    "version": 3
   },
   "file_extension": ".py",
   "mimetype": "text/x-python",
   "name": "python",
   "nbconvert_exporter": "python",
   "pygments_lexer": "ipython3",
   "version": "3.8.6-final"
  }
 },
 "nbformat": 4,
 "nbformat_minor": 4
}