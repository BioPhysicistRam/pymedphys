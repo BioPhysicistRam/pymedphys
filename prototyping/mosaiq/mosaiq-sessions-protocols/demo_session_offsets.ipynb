{
 "cells": [
  {
   "cell_type": "markdown",
   "metadata": {},
   "source": [
    "## Query for a Demo Site\n",
    "Start by querying a site for a patient with known session data (i.e. Dose_Hst records).  We will fetch the first site for the patient and store the SIT_ID and SIT_SET_ID for subsequent queries."
   ]
  },
  {
   "cell_type": "code",
   "execution_count": 2,
   "metadata": {},
   "outputs": [
    {
     "output_type": "stream",
     "name": "stdout",
     "text": [
      "SIT_ID:3  SIT_SET_ID:3  Site_Name:rx1  Notes:weekly\n"
     ]
    }
   ],
   "source": [
    "from pymedphys import mosaiq\n",
    "msq_server, test_db_name, pat_id1 = '.', 'MosaiqTest94086', 10003\n",
    "\n",
    "connection = mosaiq.connect(msq_server, database=test_db_name)\n",
    "sites = mosaiq.execute(\n",
    "    connection,\n",
    "    \"\"\"\n",
    "    SELECT \n",
    "        SIT_ID, \n",
    "        SIT_SET_ID, \n",
    "        Site_Name,\n",
    "        Notes\n",
    "    FROM Site \n",
    "    WHERE \n",
    "        Version = 0 \n",
    "        AND Pat_ID1 = %(pat_id1)s\n",
    "    \"\"\",\n",
    "    { \"pat_id1\": pat_id1 })\n",
    "\n",
    "sit_id, sit_set_id = sites[0][0], sites[0][1]\n",
    "print(f\"SIT_ID:{sit_id}  SIT_SET_ID:{sit_set_id}  Site_Name:{sites[0][2]}  Notes:{sites[0][3]}\")"
   ]
  },
  {
   "cell_type": "markdown",
   "metadata": {},
   "source": [
    "## Query for Dose_Hst\n",
    "For the select site, query for Dose_Hst records that are associated via SIT_ID.  List the first ten of the Dose_Hst records.\n",
    "\n",
    "Dose_Hst is not a versioned entity, so no need to get the tip versions."
   ]
  },
  {
   "cell_type": "code",
   "execution_count": 3,
   "metadata": {},
   "outputs": [
    {
     "output_type": "stream",
     "name": "stdout",
     "text": [
      "Dose_Hst records for site rx1:\n['2021-04-15 11:05',\n '2021-04-15 11:09',\n '2021-04-15 11:13',\n '2021-04-15 11:19',\n '2021-04-15 11:22',\n '2021-04-15 11:25',\n '2021-04-15 11:28',\n '2021-04-16 11:05',\n '2021-04-16 11:08',\n '2021-04-16 11:11']\n"
     ]
    }
   ],
   "source": [
    "import pprint as pprint\n",
    "\n",
    "dose_hsts = mosaiq.execute(\n",
    "    connection,\n",
    "    \"\"\"\n",
    "    SELECT \n",
    "        Tx_DtTm\n",
    "    FROM Dose_Hst \n",
    "    WHERE \n",
    "        Dose_Hst.SIT_ID = %(sit_id)s\n",
    "    ORDER BY Tx_DtTm\n",
    "    \"\"\", \n",
    "    { \"sit_id\": sit_id })\n",
    "\n",
    "dose_hst_datetimes = [dose_hst[0].strftime('%Y-%m-%d %H:%M') \n",
    "                    for dose_hst in dose_hsts]\n",
    "print(f\"Dose_Hst records for site {sites[0][2]}:\")\n",
    "pprint.pprint(dose_hst_datetimes[:10])"
   ]
  },
  {
   "cell_type": "markdown",
   "metadata": {},
   "source": [
    "## Cluster Dose_Hst in to sessions\n",
    "Mosaiq's data schema doesn't explicitly group Dose_Hst and Offset records in to sessions/fractions, but a simple clustering trick is generally enough to form the sessions.\n",
    "\n",
    "The ```cluster_sessions``` function uses a [hierarchical clustering algorithm](https://scikit-learn.org/stable/modules/generated/sklearn.cluster.AgglomerativeClustering.html) to cluster the Dose_Hst records.  \n",
    "\n",
    "To demonstrate the clustering, generate a list of irregularly spaced datetimes to pass to ```cluster_sessions```, which will return a tuple for each session of:\n",
    "* session number (from 1)\n",
    "* session start date/time\n",
    "* session end date/time"
   ]
  },
  {
   "cell_type": "code",
   "execution_count": 4,
   "metadata": {},
   "outputs": [
    {
     "output_type": "stream",
     "name": "stdout",
     "text": [
      "Mock tx date/times:\n",
      "\t 2021-02-09 18:01:52.573723\n",
      "\t 2021-02-09 19:01:52.573723\n",
      "\t 2021-02-09 20:01:52.573723\n",
      "\t 2021-02-09 23:01:52.573723\n",
      "\t 2021-02-10 00:01:52.573723\n",
      "\t 2021-02-10 01:01:52.573723\n",
      "\t 2021-02-10 04:01:52.573723\n",
      "\t 2021-02-10 05:01:52.573723\n",
      "\t 2021-02-10 06:01:52.573723\n",
      "\n",
      "Clustered in to sessions with 3 hour inverval:\n",
      "\tSession#1: 2021-02-09 18:01:52.573723 to 2021-02-09 20:01:52.573723\n",
      "\tSession#2: 2021-02-09 23:01:52.573723 to 2021-02-10 01:01:52.573723\n",
      "\tSession#3: 2021-02-10 04:01:52.573723 to 2021-02-10 06:01:52.573723\n"
     ]
    }
   ],
   "source": [
    "from pymedphys._mosaiq.sessions import cluster_sessions\n",
    "from datetime import datetime, timedelta\n",
    "\n",
    "test_datetimes = [datetime.now() + timedelta(hours=h*5 + j) \n",
    "                    for h in range(3) for j in range(3)]\n",
    "\n",
    "print('Mock tx date/times:')\n",
    "for datetime in test_datetimes: \n",
    "    print('\\t', str(datetime))\n",
    "\n",
    "print(f\"\\nClustered in to sessions with {3} hour inverval:\")\n",
    "for session in cluster_sessions(test_datetimes, interval=timedelta(hours=3)):\n",
    "    print(f\"\\tSession#{session[0]}: {str(session[1])} to {str(session[2])}\")"
   ]
  },
  {
   "cell_type": "markdown",
   "metadata": {},
   "source": [
    "The sessions for the queried site can now be created using the ```sessions_for_site``` function, which first queries for Dose_Hst records, and then calls ```cluster_sessions``` on the Dose_Hst.Tx_DtTm."
   ]
  },
  {
   "cell_type": "code",
   "execution_count": 5,
   "metadata": {},
   "outputs": [
    {
     "output_type": "stream",
     "name": "stdout",
     "text": [
      "Dose_Hst.Tx_DtTm-based session intervals for SIT_SET_ID = 3 in Msq db:\n\tSession#1: 2021-04-15 11:05:00 to 2021-04-15 11:28:00\n\tSession#2: 2021-04-16 11:05:00 to 2021-04-16 11:30:00\n\tSession#3: 2021-04-19 11:10:00 to 2021-04-19 11:38:00\n\tSession#4: 2021-04-21 11:07:00 to 2021-04-21 11:35:00\n\tSession#5: 2021-04-22 11:05:00 to 2021-04-22 11:29:00\n\tSession#6: 2021-04-23 11:06:00 to 2021-04-23 11:31:00\n\tSession#7: 2021-04-26 11:04:00 to 2021-04-26 11:33:00\n\tSession#8: 2021-04-27 11:09:00 to 2021-04-27 11:41:00\n\tSession#9: 2021-04-28 11:07:00 to 2021-04-28 11:40:00\n\tSession#10: 2021-04-29 11:07:00 to 2021-04-29 11:33:00\n\tSession#11: 2021-04-30 11:03:00 to 2021-04-30 11:32:00\n\tSession#12: 2021-05-03 11:04:00 to 2021-05-03 11:31:00\n\tSession#13: 2021-05-04 11:06:00 to 2021-05-04 11:31:00\n\tSession#14: 2021-05-06 11:05:00 to 2021-05-06 11:32:00\n\tSession#15: 2021-05-10 11:03:00 to 2021-05-10 11:31:00\n\tSession#16: 2021-05-11 11:08:00 to 2021-05-11 11:39:00\n\tSession#17: 2021-05-12 11:06:00 to 2021-05-12 11:34:00\n\tSession#18: 2021-05-13 11:05:00 to 2021-05-13 11:36:00\n\tSession#19: 2021-05-14 11:05:00 to 2021-05-14 11:34:00\n\tSession#20: 2021-05-17 11:04:00 to 2021-05-17 11:34:00\n\tSession#21: 2021-05-18 11:11:00 to 2021-05-18 11:37:00\n\tSession#22: 2021-05-19 11:09:00 to 2021-05-19 11:41:00\n\tSession#23: 2021-05-20 11:09:00 to 2021-05-20 11:40:00\n\tSession#24: 2021-05-21 11:06:00 to 2021-05-21 11:32:00\n\tSession#25: 2021-05-24 11:04:00 to 2021-05-24 11:34:00\n"
     ]
    }
   ],
   "source": [
    "from pymedphys._mosaiq.sessions import sessions_for_site\n",
    "\n",
    "print(f\"Dose_Hst.Tx_DtTm-based session intervals \"\n",
    "      f\"for SIT_SET_ID = {sit_set_id} in Msq db:\")\n",
    "for session in sessions_for_site(connection, sit_set_id):\n",
    "    print(f\"\\tSession#{session[0]}: {str(session[1])} to {str(session[2])}\")"
   ]
  },
  {
   "cell_type": "markdown",
   "metadata": {},
   "source": [
    "## Session Offsets\n",
    "Now that we can get the sessions for a site, we can also query to find any Offsets that occur within a +/- 1 hour time window of the session interval.  This is done by the ```session_offsets_for_site``` function.\n",
    "\n",
    "Session offsets are returned by a generator as a tuple of Session Number and Offset values.  If no Offset falls within the window for a session, then None is returned for the offset member of the tuple."
   ]
  },
  {
   "cell_type": "code",
   "execution_count": 6,
   "metadata": {},
   "outputs": [
    {
     "output_type": "stream",
     "name": "stdout",
     "text": [
      "Offset records for SIT_SET_ID 3\n\tSession#1: no session offsets\n\tSession#2: no session offsets\n\tSession#3: 2021-04-19 11:04: 0.6/-1.3/-4.9\n\tSession#4: 2021-04-21 11:04: -4.5/-4.8/2.8\n\tSession#5: no session offsets\n\tSession#6: no session offsets\n\tSession#7: no session offsets\n\tSession#8: 2021-04-27 11:03: -3.3/2.5/2.3\n\tSession#9: 2021-04-28 11:02: -3.9/-0.4/-4.2\n\tSession#10: 2021-04-29 11:02: 3.6/-3.8/4.4\n\tSession#11: no session offsets\n\tSession#12: no session offsets\n\tSession#13: no session offsets\n\tSession#14: no session offsets\n\tSession#15: no session offsets\n\tSession#16: 2021-05-11 11:02: -0.6/2/-4\n\tSession#17: no session offsets\n\tSession#18: 2021-05-13 11:02: 4.3/4.7/1.3\n\tSession#19: no session offsets\n\tSession#20: no session offsets\n\tSession#21: 2021-05-18 11:05: -0.1/3.4/-3.2\n\tSession#22: 2021-05-19 11:05: 4.3/2.2/0.2\n\tSession#23: 2021-05-20 11:05: -1.1/-4.1/-2.5\n\tSession#24: no session offsets\n\tSession#25: no session offsets\n"
     ]
    }
   ],
   "source": [
    "from pymedphys._mosaiq.sessions import session_offsets_for_site\n",
    "\n",
    "print(f\"Offset records for SIT_SET_ID {sit_set_id}\")    \n",
    "for session_num, offset in session_offsets_for_site(\n",
    "    connection, sit_set_id, interval=timedelta(hours=1)\n",
    "):\n",
    "    if offset:\n",
    "        print(f\"\\tSession#{session_num}: \"\n",
    "            f\"{offset[0].strftime('%Y-%m-%d %H:%M')}: \"\n",
    "            f\"{offset[1]}/{offset[2]}/{offset[3]}\")\n",
    "    else:\n",
    "        print(f\"\\tSession#{session_num}: no session offsets\")"
   ]
  },
  {
   "cell_type": "code",
   "execution_count": null,
   "metadata": {},
   "outputs": [],
   "source": []
  }
 ],
 "metadata": {
  "kernelspec": {
   "display_name": "pymedphys",
   "language": "python",
   "name": "pymedphys"
  },
  "language_info": {
   "codemirror_mode": {
    "name": "ipython",
    "version": 3
   },
   "file_extension": ".py",
   "mimetype": "text/x-python",
   "name": "python",
   "nbconvert_exporter": "python",
   "pygments_lexer": "ipython3",
   "version": "3.8.6-final"
  }
 },
 "nbformat": 4,
 "nbformat_minor": 4
}