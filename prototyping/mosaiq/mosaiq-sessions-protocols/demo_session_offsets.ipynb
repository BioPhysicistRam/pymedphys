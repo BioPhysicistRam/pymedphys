{
 "cells": [
  {
   "cell_type": "markdown",
   "metadata": {},
   "source": [
    "## Query for a Demo Site\n",
    "Start by querying a site for a patient with known session data (i.e. Dose_Hst records).  We will fetch the first site for the patient and store the SIT_ID and SIT_SET_ID for subsequent queries."
   ]
  },
  {
   "cell_type": "code",
   "execution_count": 18,
   "metadata": {},
   "outputs": [
    {
     "output_type": "stream",
     "name": "stdout",
     "text": [
      "SIT_ID:3  SIT_SET_ID:3  Site_Name:rx1  Notes:daily\n"
     ]
    }
   ],
   "source": [
    "from pymedphys import mosaiq\n",
    "msq_server, pat_id1 = '.', 10003\n",
    "with mosaiq.connect(msq_server) as cursor:\n",
    "    sites = mosaiq.execute(cursor,\n",
    "        \"\"\"\n",
    "        SELECT \n",
    "            SIT_ID, \n",
    "            SIT_SET_ID, \n",
    "            Site_Name,\n",
    "            Notes\n",
    "        FROM Site \n",
    "        WHERE \n",
    "            Version = 0 \n",
    "            AND Pat_ID1 = %(pat_id1)s\n",
    "        \"\"\",\n",
    "        { \"pat_id1\": pat_id1 })\n",
    "\n",
    "    sit_id, sit_set_id = sites[0][0], sites[0][1]\n",
    "    print(f\"SIT_ID:{sit_id}  SIT_SET_ID:{sit_set_id}  Site_Name:{sites[0][2]}  Notes:{sites[0][3]}\")"
   ]
  },
  {
   "cell_type": "markdown",
   "metadata": {},
   "source": [
    "## Query for Dose_Hst\n",
    "For the select site, query for Dose_Hst records that are associated via SIT_ID.  List the first ten of the Dose_Hst records.\n",
    "\n",
    "Dose_Hst is not a versioned entity, so no need to get the tip versions."
   ]
  },
  {
   "cell_type": "code",
   "execution_count": 19,
   "metadata": {},
   "outputs": [
    {
     "output_type": "stream",
     "name": "stdout",
     "text": [
      "Dose_Hst records for site rx1:\n['2021-05-31 14:07',\n '2021-05-31 14:12',\n '2021-05-31 14:16',\n '2021-05-31 14:19',\n '2021-06-02 14:08',\n '2021-06-02 14:11',\n '2021-06-02 14:14',\n '2021-06-02 14:19',\n '2021-06-03 14:06',\n '2021-06-03 14:12']\n"
     ]
    }
   ],
   "source": [
    "import pprint as pprint\n",
    "\n",
    "with mosaiq.connect(msq_server) as cursor:\n",
    "    dose_hsts = mosaiq.execute(cursor, \n",
    "        \"\"\"\n",
    "        SELECT \n",
    "            Tx_DtTm\n",
    "        FROM Dose_Hst \n",
    "        WHERE \n",
    "            Dose_Hst.SIT_ID = %(sit_id)s\n",
    "        ORDER BY Tx_DtTm\n",
    "        \"\"\", \n",
    "        { \"sit_id\": sit_id })\n",
    "\n",
    "    dose_hst_datetimes = [dose_hst[0].strftime('%Y-%m-%d %H:%M') \n",
    "                        for dose_hst in dose_hsts]\n",
    "    print(f\"Dose_Hst records for site {sites[0][2]}:\")\n",
    "    pprint.pprint(dose_hst_datetimes[:10])"
   ]
  },
  {
   "cell_type": "markdown",
   "metadata": {},
   "source": [
    "## Cluster Dose_Hst in to sessions\n",
    "Mosaiq's data schema doesn't explicitly group Dose_Hst and Offset records in to sessions/fractions, but a simple clustering trick is generally enough to form the sessions.\n",
    "\n",
    "The ```cluster_sessions``` function uses a [hierarchical clustering algorithm](https://scikit-learn.org/stable/modules/generated/sklearn.cluster.AgglomerativeClustering.html) to cluster the Dose_Hst records.  \n",
    "\n",
    "To demonstrate the clustering, generate a list of irregularly spaced datetimes to pass to ```cluster_sessions```, which will return a tuple for each session of:\n",
    "* session number (from 1)\n",
    "* session start date/time\n",
    "* session end date/time"
   ]
  },
  {
   "cell_type": "code",
   "execution_count": 20,
   "metadata": {},
   "outputs": [
    {
     "output_type": "stream",
     "name": "stdout",
     "text": [
      "Mock tx date/times:\n\t 2021-01-15 12:42:23.780435\n\t 2021-01-15 13:42:23.780435\n\t 2021-01-15 14:42:23.780435\n\t 2021-01-15 17:42:23.780435\n\t 2021-01-15 18:42:23.780435\n\t 2021-01-15 19:42:23.780435\n\t 2021-01-15 22:42:23.780435\n\t 2021-01-15 23:42:23.780435\n\t 2021-01-16 00:42:23.780435\n\nClustered in to sessions with 3 hour inverval:\n\tSession#1: 2021-01-15 12:42:23.780435 to 2021-01-15 14:42:23.780435\n\tSession#2: 2021-01-15 17:42:23.780435 to 2021-01-15 19:42:23.780435\n\tSession#3: 2021-01-15 22:42:23.780435 to 2021-01-16 00:42:23.780435\n"
     ]
    }
   ],
   "source": [
    "from session_offsets_calculator import cluster_sessions\n",
    "from datetime import datetime, timedelta\n",
    "\n",
    "test_datetimes = [datetime.now() + timedelta(hours=h*5 + j) \n",
    "                    for h in range(3) for j in range(3)]\n",
    "\n",
    "print('Mock tx date/times:')\n",
    "for datetime in test_datetimes: \n",
    "    print('\\t', str(datetime))\n",
    "\n",
    "print(f\"\\nClustered in to sessions with {3} hour inverval:\")\n",
    "for session in cluster_sessions(test_datetimes, interval=timedelta(hours=3)):\n",
    "    print(f\"\\tSession#{session[0]}: {str(session[1])} to {str(session[2])}\")"
   ]
  },
  {
   "cell_type": "markdown",
   "metadata": {},
   "source": [
    "The sessions for the queried site can now be created using the ```sessions_for_site``` function, which first queries for Dose_Hst records, and then calls ```cluster_sessions``` on the Dose_Hst.Tx_DtTm."
   ]
  },
  {
   "cell_type": "code",
   "execution_count": 21,
   "metadata": {},
   "outputs": [
    {
     "output_type": "stream",
     "name": "stdout",
     "text": [
      "Dose_Hst.Tx_DtTm-based session intervals for SIT_SET_ID = 3 in Msq db:\n\tSession#1: 2021-05-31 14:07:00 to 2021-05-31 14:19:00\n\tSession#2: 2021-06-02 14:08:00 to 2021-06-02 14:19:00\n\tSession#3: 2021-06-03 14:06:00 to 2021-06-03 14:20:00\n\tSession#4: 2021-06-04 14:09:00 to 2021-06-04 14:25:00\n\tSession#5: 2021-06-07 14:08:00 to 2021-06-07 14:25:00\n\tSession#6: 2021-06-08 14:10:00 to 2021-06-08 14:27:00\n\tSession#7: 2021-06-09 14:06:00 to 2021-06-09 14:19:00\n\tSession#8: 2021-06-10 14:07:00 to 2021-06-10 14:21:00\n\tSession#9: 2021-06-11 14:10:00 to 2021-06-11 14:23:00\n\tSession#10: 2021-06-14 14:09:00 to 2021-06-14 14:24:00\n\tSession#11: 2021-06-15 14:09:00 to 2021-06-15 14:22:00\n\tSession#12: 2021-06-16 14:07:00 to 2021-06-16 14:21:00\n\tSession#13: 2021-06-17 14:06:00 to 2021-06-17 14:17:00\n\tSession#14: 2021-06-18 14:07:00 to 2021-06-18 14:18:00\n\tSession#15: 2021-06-21 14:05:00 to 2021-06-21 14:18:00\n\tSession#16: 2021-06-22 14:08:00 to 2021-06-22 14:24:00\n\tSession#17: 2021-06-23 14:06:00 to 2021-06-23 14:22:00\n\tSession#18: 2021-06-24 14:10:00 to 2021-06-24 14:25:00\n\tSession#19: 2021-06-25 14:09:00 to 2021-06-25 14:21:00\n\tSession#20: 2021-06-28 14:10:00 to 2021-06-28 14:22:00\n"
     ]
    }
   ],
   "source": [
    "from session_offsets_calculator import sessions_for_site\n",
    "\n",
    "with mosaiq.connect(msq_server) as cursor:\n",
    "      print(f\"Dose_Hst.Tx_DtTm-based session intervals \"\n",
    "            f\"for SIT_SET_ID = {sit_set_id} in Msq db:\")\n",
    "      for session in sessions_for_site(cursor, sit_set_id):\n",
    "            print(f\"\\tSession#{session[0]}: {str(session[1])} to {str(session[2])}\")"
   ]
  },
  {
   "cell_type": "markdown",
   "metadata": {},
   "source": [
    "## Session Offsets\n",
    "Now that we can get the sessions for a site, we can also query to find any Offsets that occur within a +/- 1 hour time window of the session interval.  This is done by the ```session_offsets_for_site``` function.\n",
    "\n",
    "Session offsets are returned by a generator as a tuple of Session Number and Offset values.  If no Offset falls within the window for a session, then None is returned for the offset member of the tuple."
   ]
  },
  {
   "cell_type": "code",
   "execution_count": 22,
   "metadata": {},
   "outputs": [
    {
     "output_type": "stream",
     "name": "stdout",
     "text": [
      "Offset records for SIT_SET_ID 3\n\tSession#1: 2021-05-31 14:04: -4.4/4.4/-2.8\n\tSession#2: 2021-06-02 14:02: 3.4/0.4/-0.1\n\tSession#3: 2021-06-03 14:02: 1.4/-1.5/-4.9\n\tSession#4: 2021-06-04 14:05: 4.6/1.7/-4.4\n\tSession#5: 2021-06-07 14:02: 3.6/-1.1/-1.9\n\tSession#6: 2021-06-08 14:04: -1.1/-4.7/-4.1\n\tSession#7: no session offsets\n\tSession#8: 2021-06-10 14:02: -3.7/-4.4/-5\n\tSession#9: 2021-06-11 14:05: -2/-2/1.6\n\tSession#10: 2021-06-14 14:04: 4.3/-3.1/0.4\n\tSession#11: 2021-06-15 14:03: -0.8/4.7/3.6\n\tSession#12: 2021-06-16 14:04: 4/1.1/1.7\n\tSession#13: 2021-06-17 14:02: -3/2.4/4.5\n\tSession#14: 2021-06-18 14:04: -4.2/2.4/-3.9\n\tSession#15: 2021-06-21 14:02: 3/0/-3.7\n\tSession#16: 2021-06-22 14:02: -3.7/4.6/-5\n\tSession#17: 2021-06-23 14:03: 2.1/-3.2/0.6\n\tSession#18: 2021-06-24 14:04: -2.1/-1.8/3.1\n\tSession#19: 2021-06-25 14:03: -4.9/2.6/-4.8\n\tSession#20: 2021-06-28 14:04: -2.7/-1.5/-3.4\n"
     ]
    }
   ],
   "source": [
    "from session_offsets_calculator import session_offsets_for_site\n",
    "\n",
    "with mosaiq.connect(msq_server) as cursor:\n",
    "    print(f\"Offset records for SIT_SET_ID {sit_set_id}\")    \n",
    "    for session_num, offset in session_offsets_for_site(\n",
    "        cursor, sit_set_id, interval=timedelta(hours=1)\n",
    "    ):\n",
    "        if offset:\n",
    "            print(f\"\\tSession#{session_num}: \"\n",
    "                f\"{offset[0].strftime('%Y-%m-%d %H:%M')}: \"\n",
    "                f\"{offset[1]}/{offset[2]}/{offset[3]}\")\n",
    "        else:\n",
    "            print(f\"\\tSession#{session_num}: no session offsets\")"
   ]
  },
  {
   "cell_type": "code",
   "execution_count": null,
   "metadata": {},
   "outputs": [],
   "source": []
  }
 ],
 "metadata": {
  "kernelspec": {
   "display_name": "Python 3",
   "language": "python",
   "name": "python3"
  },
  "language_info": {
   "codemirror_mode": {
    "name": "ipython",
    "version": 3
   },
   "file_extension": ".py",
   "mimetype": "text/x-python",
   "name": "python",
   "nbconvert_exporter": "python",
   "pygments_lexer": "ipython3",
   "version": "3.8.6-final"
  }
 },
 "nbformat": 4,
 "nbformat_minor": 4
}