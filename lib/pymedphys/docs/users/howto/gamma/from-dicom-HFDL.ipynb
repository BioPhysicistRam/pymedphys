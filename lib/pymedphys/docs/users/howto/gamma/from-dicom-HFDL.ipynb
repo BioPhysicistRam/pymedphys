{
 "cells": [
  {
   "cell_type": "markdown",
   "metadata": {},
   "source": [
    "# 3D gamma from DICOM\n",
    "## example for a patient orientation of \"head first decubitus left\"\n",
    "PyMedPhys has multiple ways to calculate gamma. There are also a range of interfaces that can be used. Presented here is a simplified interface which receives as its input two DICOM file paths for the purpose of directly calculating 3-dimensional gamma from a pair of RT DICOM dose files."
   ]
  },
  {
   "cell_type": "code",
   "execution_count": 1,
   "metadata": {},
   "outputs": [],
   "source": [
    "import numpy as np\n",
    "import matplotlib.pyplot as plt"
   ]
  },
  {
   "cell_type": "code",
   "execution_count": 2,
   "metadata": {},
   "outputs": [
    {
     "name": "stderr",
     "output_type": "stream",
     "text": [
      "WARNING: You are using pip version 21.3.1; however, version 22.3 is available.\n",
      "You should consider upgrading via the 'd:\\python\\python37\\python.exe -m pip install --upgrade pip' command.\n"
     ]
    },
    {
     "name": "stdout",
     "output_type": "stream",
     "text": [
      "Requirement already satisfied: pydicom in d:\\python\\python37\\lib\\site-packages (2.3.0)\n",
      "Requirement already satisfied: pymedphys in d:\\python\\python37\\lib\\site-packages (0.38.0)\n",
      "Requirement already satisfied: ipython>=7.31.1 in d:\\python\\python37\\lib\\site-packages (from pymedphys) (7.34.0)\n",
      "Requirement already satisfied: typing-extensions in d:\\python\\python37\\lib\\site-packages (from pymedphys) (4.0.1)\n",
      "Requirement already satisfied: traitlets>=4.2 in d:\\python\\python37\\lib\\site-packages (from ipython>=7.31.1->pymedphys) (5.1.1)\n",
      "Requirement already satisfied: prompt-toolkit!=3.0.0,!=3.0.1,<3.1.0,>=2.0.0 in d:\\python\\python37\\lib\\site-packages (from ipython>=7.31.1->pymedphys) (3.0.23)\n",
      "Requirement already satisfied: pygments in d:\\python\\python37\\lib\\site-packages (from ipython>=7.31.1->pymedphys) (2.10.0)\n",
      "Requirement already satisfied: colorama in d:\\python\\python37\\lib\\site-packages (from ipython>=7.31.1->pymedphys) (0.4.4)\n",
      "Requirement already satisfied: jedi>=0.16 in d:\\python\\python37\\lib\\site-packages (from ipython>=7.31.1->pymedphys) (0.18.1)\n",
      "Requirement already satisfied: backcall in d:\\python\\python37\\lib\\site-packages (from ipython>=7.31.1->pymedphys) (0.2.0)\n",
      "Requirement already satisfied: matplotlib-inline in d:\\python\\python37\\lib\\site-packages (from ipython>=7.31.1->pymedphys) (0.1.3)\n",
      "Requirement already satisfied: decorator in d:\\python\\python37\\lib\\site-packages (from ipython>=7.31.1->pymedphys) (5.1.0)\n",
      "Requirement already satisfied: setuptools>=18.5 in d:\\python\\python37\\lib\\site-packages (from ipython>=7.31.1->pymedphys) (41.2.0)\n",
      "Requirement already satisfied: pickleshare in d:\\python\\python37\\lib\\site-packages (from ipython>=7.31.1->pymedphys) (0.7.5)\n",
      "Requirement already satisfied: parso<0.9.0,>=0.8.0 in d:\\python\\python37\\lib\\site-packages (from jedi>=0.16->ipython>=7.31.1->pymedphys) (0.8.3)\n",
      "Requirement already satisfied: wcwidth in d:\\python\\python37\\lib\\site-packages (from prompt-toolkit!=3.0.0,!=3.0.1,<3.1.0,>=2.0.0->ipython>=7.31.1->pymedphys) (0.2.5)\n"
     ]
    }
   ],
   "source": [
    "!pip install pydicom pymedphys\n",
    "\n",
    "import pydicom\n",
    "import pymedphys"
   ]
  },
  {
   "cell_type": "markdown",
   "metadata": {},
   "source": [
    "## Define common patient scan orientations"
   ]
  },
  {
   "cell_type": "code",
   "execution_count": 3,
   "metadata": {},
   "outputs": [],
   "source": [
    "Patient_Orientation = []\n",
    "Patient_Orientation.append([\"Head first supine\", [1, 0, 0, 0, 1, 0], 'A', 'P', 'R', 'L']) #patient orientation description, value of tag (0020,0037), orientation on a slice \n",
    "Patient_Orientation.append([\"Head first prone\", [-1, 0, 0, 0, -1, 0], 'P', 'A', 'L', 'R'])\n",
    "Patient_Orientation.append([\"Head first decubitus right\", [0, 1, 0, -1, 0, 0], 'L', 'R', 'A', 'P'])\n",
    "Patient_Orientation.append([\"Head first decubitus left\", [0, -1, 0, 1, 0, 0], 'R', 'L', 'P', 'A'])\n",
    "Patient_Orientation.append([\"Feet first supine\", [-1, 0, 0, 0, 1, 0], 'A', 'P', 'L', 'R'])\n",
    "Patient_Orientation.append([\"Feet first prone\", [1, 0, 0, 0, -1, 0], 'P', 'A', 'R', 'L'])\n",
    "Patient_Orientation.append([\"Feet first decubitus right\", [0, -1, 0, -1, 0, 0], 'L', 'R', 'P', 'A'])\n",
    "Patient_Orientation.append([\"Feet first decubitus left\", [0, 1, 0, 1, 0, 0], 'R', 'L', 'A', 'P'])"
   ]
  },
  {
   "cell_type": "markdown",
   "metadata": {},
   "source": [
    "## Getting two demo DICOM dose files\n",
    "\n",
    "Let's download some demo files for the purpose of demonstrating `gamma_dicom` usage."
   ]
  },
  {
   "cell_type": "code",
   "execution_count": 4,
   "metadata": {
    "tags": []
   },
   "outputs": [
    {
     "ename": "ValueError",
     "evalue": "The file provided isn't within pymedphys' urls.json record.",
     "output_type": "error",
     "traceback": [
      "\u001b[1;31m---------------------------------------------------------------------------\u001b[0m",
      "\u001b[1;31mKeyError\u001b[0m                                  Traceback (most recent call last)",
      "\u001b[1;32md:\\python\\python37\\lib\\site-packages\\pymedphys\\_data\\download.py\u001b[0m in \u001b[0;36mget_url\u001b[1;34m(filename)\u001b[0m\n\u001b[0;32m     88\u001b[0m     \u001b[1;32mtry\u001b[0m\u001b[1;33m:\u001b[0m\u001b[1;33m\u001b[0m\u001b[1;33m\u001b[0m\u001b[0m\n\u001b[1;32m---> 89\u001b[1;33m         \u001b[0murl\u001b[0m \u001b[1;33m=\u001b[0m \u001b[0murl_map\u001b[0m\u001b[1;33m[\u001b[0m\u001b[0mfilename\u001b[0m\u001b[1;33m]\u001b[0m\u001b[1;33m\u001b[0m\u001b[1;33m\u001b[0m\u001b[0m\n\u001b[0m\u001b[0;32m     90\u001b[0m     \u001b[1;32mexcept\u001b[0m \u001b[0mKeyError\u001b[0m\u001b[1;33m:\u001b[0m\u001b[1;33m\u001b[0m\u001b[1;33m\u001b[0m\u001b[0m\n",
      "\u001b[1;31mKeyError\u001b[0m: 'RD.HFDL_ref.dcm'",
      "\nDuring handling of the above exception, another exception occurred:\n",
      "\u001b[1;31mValueError\u001b[0m                                Traceback (most recent call last)",
      "\u001b[1;32m~\\AppData\\Local\\Temp/ipykernel_87632/1703025844.py\u001b[0m in \u001b[0;36m<module>\u001b[1;34m\u001b[0m\n\u001b[1;32m----> 1\u001b[1;33m \u001b[0mreference_filepath\u001b[0m \u001b[1;33m=\u001b[0m \u001b[0mpymedphys\u001b[0m\u001b[1;33m.\u001b[0m\u001b[0mdata_path\u001b[0m\u001b[1;33m(\u001b[0m\u001b[1;34m\"RD.HFDL_ref.dcm\"\u001b[0m\u001b[1;33m)\u001b[0m\u001b[1;33m\u001b[0m\u001b[1;33m\u001b[0m\u001b[0m\n\u001b[0m\u001b[0;32m      2\u001b[0m \u001b[0mreference_filepath\u001b[0m\u001b[1;33m\u001b[0m\u001b[1;33m\u001b[0m\u001b[0m\n",
      "\u001b[1;32md:\\python\\python37\\lib\\site-packages\\pymedphys\\_data\\download.py\u001b[0m in \u001b[0;36mdata_path\u001b[1;34m(filename, check_hash, redownload_on_hash_mismatch, delete_when_no_hash_found, url, hash_filepath)\u001b[0m\n\u001b[0;32m    129\u001b[0m     \u001b[1;32mif\u001b[0m \u001b[1;32mnot\u001b[0m \u001b[0mfilepath\u001b[0m\u001b[1;33m.\u001b[0m\u001b[0mexists\u001b[0m\u001b[1;33m(\u001b[0m\u001b[1;33m)\u001b[0m\u001b[1;33m:\u001b[0m\u001b[1;33m\u001b[0m\u001b[1;33m\u001b[0m\u001b[0m\n\u001b[0;32m    130\u001b[0m         \u001b[1;32mif\u001b[0m \u001b[0murl\u001b[0m \u001b[1;32mis\u001b[0m \u001b[1;32mNone\u001b[0m\u001b[1;33m:\u001b[0m\u001b[1;33m\u001b[0m\u001b[1;33m\u001b[0m\u001b[0m\n\u001b[1;32m--> 131\u001b[1;33m             \u001b[0murl\u001b[0m \u001b[1;33m=\u001b[0m \u001b[0mget_url\u001b[0m\u001b[1;33m(\u001b[0m\u001b[0mfilename\u001b[0m\u001b[1;33m)\u001b[0m\u001b[1;33m\u001b[0m\u001b[1;33m\u001b[0m\u001b[0m\n\u001b[0m\u001b[0;32m    132\u001b[0m \u001b[1;33m\u001b[0m\u001b[0m\n\u001b[0;32m    133\u001b[0m         \u001b[0mdownload_with_progress\u001b[0m\u001b[1;33m(\u001b[0m\u001b[0murl\u001b[0m\u001b[1;33m,\u001b[0m \u001b[0mfilepath\u001b[0m\u001b[1;33m)\u001b[0m\u001b[1;33m\u001b[0m\u001b[1;33m\u001b[0m\u001b[0m\n",
      "\u001b[1;32md:\\python\\python37\\lib\\site-packages\\pymedphys\\_data\\download.py\u001b[0m in \u001b[0;36mget_url\u001b[1;34m(filename)\u001b[0m\n\u001b[0;32m     89\u001b[0m         \u001b[0murl\u001b[0m \u001b[1;33m=\u001b[0m \u001b[0murl_map\u001b[0m\u001b[1;33m[\u001b[0m\u001b[0mfilename\u001b[0m\u001b[1;33m]\u001b[0m\u001b[1;33m\u001b[0m\u001b[1;33m\u001b[0m\u001b[0m\n\u001b[0;32m     90\u001b[0m     \u001b[1;32mexcept\u001b[0m \u001b[0mKeyError\u001b[0m\u001b[1;33m:\u001b[0m\u001b[1;33m\u001b[0m\u001b[1;33m\u001b[0m\u001b[0m\n\u001b[1;32m---> 91\u001b[1;33m         \u001b[1;32mraise\u001b[0m \u001b[0mValueError\u001b[0m\u001b[1;33m(\u001b[0m\u001b[1;34m\"The file provided isn't within pymedphys' urls.json record.\"\u001b[0m\u001b[1;33m)\u001b[0m\u001b[1;33m\u001b[0m\u001b[1;33m\u001b[0m\u001b[0m\n\u001b[0m\u001b[0;32m     92\u001b[0m \u001b[1;33m\u001b[0m\u001b[0m\n\u001b[0;32m     93\u001b[0m     \u001b[1;32mreturn\u001b[0m \u001b[0murl\u001b[0m\u001b[1;33m\u001b[0m\u001b[1;33m\u001b[0m\u001b[0m\n",
      "\u001b[1;31mValueError\u001b[0m: The file provided isn't within pymedphys' urls.json record."
     ]
    }
   ],
   "source": [
    "reference_filepath = pymedphys.data_path(\"RD.HFDL_ref.dcm\")\n",
    "reference_filepath"
   ]
  },
  {
   "cell_type": "code",
   "execution_count": null,
   "metadata": {},
   "outputs": [],
   "source": [
    "evaluation_filepath = pymedphys.data_path(\"RD.HFDL_eva.dcm\")\n",
    "evaluation_filepath"
   ]
  },
  {
   "cell_type": "code",
   "execution_count": null,
   "metadata": {},
   "outputs": [],
   "source": [
    "reference = pydicom.read_file(str(reference_filepath), force=True)\n",
    "evaluation = pydicom.read_file(str(evaluation_filepath), force=True)"
   ]
  },
  {
   "cell_type": "code",
   "execution_count": null,
   "metadata": {},
   "outputs": [],
   "source": [
    "pt_axes_ref, dose_reference = pymedphys.dicom.zyx_and_dose_from_dataset(reference)\n",
    "pt_axes_eva, dose_evaluation = pymedphys.dicom.zyx_and_dose_from_dataset(evaluation)"
   ]
  },
  {
   "cell_type": "code",
   "execution_count": null,
   "metadata": {},
   "outputs": [],
   "source": [
    "pt_orient_ref = reference[0x20,0x37].value # tag of Image Orientation (Patient) is 0020,0037"
   ]
  },
  {
   "cell_type": "code",
   "execution_count": null,
   "metadata": {},
   "outputs": [],
   "source": [
    "A = [] # define A as the translation matrix\n",
    "A.append(pt_orient_ref[0:3]) #cosine between DICOM x axis and patient x, y, and z axis\n",
    "A.append(pt_orient_ref[3:6]) #cosine between DICOM y axis and patient x, y, and z axis\n",
    "A.append([pt_orient_ref[1]*pt_orient_ref[5]-pt_orient_ref[2]*pt_orient_ref[4],\n",
    "          pt_orient_ref[2]*pt_orient_ref[3]-pt_orient_ref[0]*pt_orient_ref[5],\n",
    "          pt_orient_ref[0]*pt_orient_ref[4]-pt_orient_ref[1]*pt_orient_ref[3]])\n",
    "          #cosine between DICOM z axis and patient x, y, and z axis\n",
    "print('Translation matrix from patient coordinate system to DICOM coordinate system: {0}\\n'.format(A))"
   ]
  },
  {
   "cell_type": "markdown",
   "metadata": {},
   "source": [
    "## Translate patient coordinate system to DICOM coordinate system"
   ]
  },
  {
   "cell_type": "code",
   "execution_count": null,
   "metadata": {},
   "outputs": [],
   "source": [
    "#np.nonzero returns a tuple, so [0][0] is needed to get the index of first non zero value in a list\n",
    "i_z_dcm = np.nonzero(A[2])[0][0] #index for z_axis in DICOM\n",
    "i_y_dcm = np.nonzero(A[1])[0][0] #index for y_axis in DICOM\n",
    "i_x_dcm = np.nonzero(A[0])[0][0] #index for x_axis in DICOM\n",
    "\n",
    "for i in range(0, len(Patient_Orientation)):\n",
    "    if pt_orient_ref == Patient_Orientation[i][1]:\n",
    "        calculationLog.write('Patient scan orientation: {0}\\n'.format(Patient_Orientation[i][0]))\n",
    "        current_pt_orient = Patient_Orientation[i][0] # string of the patient scan orientation\n",
    "        current_pt_orient_marks = Patient_Orientation[i][2:6] # four letters to indicate patient orientation on slice\n",
    "        #print('Patient scan orientation: {0}\\n'.format(current_pt_orient))\n",
    "        #print('Patient scan orientation marks on a slice: {0}\\n'.format(current_pt_orient_marks))\n",
    "        axes_reference = (pt_axes_ref[2-i_z_dcm]*A[2][i_z_dcm], pt_axes_ref[2-i_y_dcm]*A[1][i_y_dcm], pt_axes_ref[2-i_x_dcm]*A[0][i_x_dcm]) #DICOM z,y,x axes\n",
    "        axes_evaluation = (pt_axes_eva[2-i_z_dcm]*A[2][i_z_dcm], pt_axes_eva[2-i_y_dcm]*A[1][i_y_dcm], pt_axes_eva[2-i_x_dcm]*A[0][i_x_dcm])"
   ]
  },
  {
   "cell_type": "code",
   "execution_count": null,
   "metadata": {},
   "outputs": [],
   "source": [
    "(z_ref, y_ref, x_ref) = axes_reference\n",
    "(z_eval, y_eval, x_eval) = axes_evaluation"
   ]
  },
  {
   "cell_type": "markdown",
   "metadata": {},
   "source": [
    "Importantly the shape of the coordinates are in the same order as the dose axis order"
   ]
  },
  {
   "cell_type": "code",
   "execution_count": null,
   "metadata": {},
   "outputs": [],
   "source": [
    "np.shape(z_ref)"
   ]
  },
  {
   "cell_type": "code",
   "execution_count": null,
   "metadata": {},
   "outputs": [],
   "source": [
    "np.shape(y_ref)"
   ]
  },
  {
   "cell_type": "code",
   "execution_count": null,
   "metadata": {},
   "outputs": [],
   "source": [
    "np.shape(x_ref)"
   ]
  },
  {
   "cell_type": "code",
   "execution_count": null,
   "metadata": {},
   "outputs": [],
   "source": [
    "np.shape(dose_reference)"
   ]
  },
  {
   "cell_type": "markdown",
   "metadata": {},
   "source": [
    "## Calculate and display gamma"
   ]
  },
  {
   "cell_type": "code",
   "execution_count": null,
   "metadata": {},
   "outputs": [],
   "source": [
    "gamma_options = {\n",
    "    'dose_percent_threshold': 1, #(1%/1mm) criteria\n",
    "    'distance_mm_threshold': 1,\n",
    "    'lower_percent_dose_cutoff': 10, #10% of maximum dose in reference plan\n",
    "    'interp_fraction': 10,  # Should be 10 or more for more accurate results\n",
    "    'max_gamma': 5,\n",
    "    'random_subset': None,\n",
    "    'local_gamma': False, # Maximum dose in reference plan is used as normalisation factor in global gamma\n",
    "    'ram_available': 2**29  # 1/2 GB\n",
    "}\n",
    "    \n",
    "gamma = pymedphys.gamma(\n",
    "    axes_reference, dose_reference, \n",
    "    axes_evaluation, dose_evaluation, \n",
    "    **gamma_options)"
   ]
  },
  {
   "cell_type": "code",
   "execution_count": null,
   "metadata": {},
   "outputs": [],
   "source": [
    "valid_gamma = gamma[~np.isnan(gamma)]\n",
    "\n",
    "num_bins = (\n",
    "    gamma_options['interp_fraction'] * gamma_options['max_gamma'])\n",
    "bins = np.linspace(0, gamma_options['max_gamma'], num_bins + 1)\n",
    "\n",
    "plt.hist(valid_gamma, bins, density=True)\n",
    "#if density is True, y value is probability density; otherwise, it is count in a bin\n",
    "plt.xlim([0, gamma_options['max_gamma']])\n",
    "plt.xlabel('gamma index')\n",
    "plt.ylabel('probability density')\n",
    "    \n",
    "pass_ratio = np.sum(valid_gamma <= 1) / len(valid_gamma)\n",
    "\n",
    "if gamma_options['local_gamma']:\n",
    "    gamma_norm_condition = 'Local gamma'\n",
    "else:\n",
    "    gamma_norm_condition = 'Global gamma'\n",
    "\n",
    "plt.title(f\"Dose cut: {gamma_options['lower_percent_dose_cutoff']}% | {gamma_norm_condition} ({gamma_options['dose_percent_threshold']}%/{gamma_options['distance_mm_threshold']}mm) | Pass Rate(\\u03B3<=1): {pass_ratio*100:.2f}% \\n ref pts: {len(z_ref)*len(y_ref)*len(x_ref)} | valid \\u03B3 pts: {len(valid_gamma)}\")\n",
    "\n",
    "# plt.savefig('gamma_hist.png', dpi=300)"
   ]
  },
  {
   "cell_type": "markdown",
   "metadata": {},
   "source": [
    "## Plot dose and gamma on sampled slices"
   ]
  },
  {
   "cell_type": "code",
   "execution_count": null,
   "metadata": {},
   "outputs": [],
   "source": [
    "max_ref_dose = np.max(dose_reference)\n",
    "\n",
    "lower_dose_cutoff = gamma_options['lower_percent_dose_cutoff'] / 100 * max_ref_dose\n",
    "\n",
    "relevant_slice = (\n",
    "    np.max(dose_reference, axis=(1, 2)) > \n",
    "    lower_dose_cutoff)\n",
    "slice_start = np.max([\n",
    "        np.where(relevant_slice)[0][0], \n",
    "        0])\n",
    "slice_end = np.min([\n",
    "        np.where(relevant_slice)[0][-1], \n",
    "        len(z_ref)])"
   ]
  },
  {
   "cell_type": "code",
   "execution_count": null,
   "metadata": {},
   "outputs": [],
   "source": [
    "delta_z_show = 5\n",
    "z_vals = z_ref[slice(slice_start, slice_end, delta_z_show)]\n",
    "\n",
    "eval_slices = [\n",
    "    dose_evaluation[np.where(z_i == z_eval)[0][0], :, :]\n",
    "    for z_i in z_vals\n",
    "]\n",
    "\n",
    "ref_slices = [\n",
    "    dose_reference[np.where(z_i == z_ref)[0][0], :, :]\n",
    "    for z_i in z_vals\n",
    "]\n",
    "\n",
    "gamma_slices = [\n",
    "    gamma[np.where(z_i == z_ref)[0][0], :, :]\n",
    "    for z_i in z_vals\n",
    "]\n",
    "\n",
    "diffs = [\n",
    "    eval_slice - ref_slice\n",
    "    for eval_slice, ref_slice \n",
    "    in zip(eval_slices, ref_slices)\n",
    "]\n",
    "\n",
    "max_diff = np.max(np.abs(diffs))\n",
    "\n",
    "\n",
    "\n",
    "for i, (eval_slice, ref_slice, diff, gamma_slice) in enumerate(zip(eval_slices, ref_slices, diffs, gamma_slices)):    \n",
    "    fig, ax = plt.subplots(figsize=(13,10), nrows=2, ncols=2)\n",
    "   \n",
    "    fig.suptitle('Slice {0}, z={1:.2f} mm in DICOM'.format(slice_start+i*delta_z_show, z_ref[slice_start+i*delta_z_show]), fontsize=12)\n",
    "    c00 = ax[0,0].contourf(\n",
    "        x_eval, y_eval, eval_slice, 100, \n",
    "        vmin=0, vmax=max_ref_dose, cmap=plt.get_cmap('rainbow'))\n",
    "    ax[0,0].set_title(\"Evaluation\")\n",
    "    fig.colorbar(c00, ax=ax[0,0], label='Dose (Gy)')\n",
    "    ax[0,0].invert_yaxis()\n",
    "    ax[0,0].set_xlabel('x (mm)')\n",
    "    ax[0,0].set_ylabel('y (mm)')\n",
    "    \n",
    "    c01 = ax[0,1].contourf(\n",
    "        x_ref, y_ref, ref_slice, 100, \n",
    "        vmin=0, vmax=max_ref_dose, cmap=plt.get_cmap('rainbow'))\n",
    "    ax[0,1].set_title(\"Reference\")  \n",
    "    fig.colorbar(c01, ax=ax[0,1], label='Dose (Gy)')\n",
    "    ax[0,1].invert_yaxis()\n",
    "    ax[0,1].set_xlabel('x (mm)')\n",
    "    ax[0,1].set_ylabel('y (mm)')\n",
    "\n",
    "    c10 = ax[1,0].contourf(\n",
    "        x_ref, y_ref, diff, 100, \n",
    "        vmin=-max_diff, vmax=max_diff, cmap=plt.get_cmap('seismic'))\n",
    "    ax[1,0].set_title(\"Dose difference\")    \n",
    "    cbar = fig.colorbar(c10, ax=ax[1,0], label='[Dose Eval] - [Dose Ref] (Gy)')\n",
    "    cbar.formatter.set_powerlimits((0, 0)) #use scientific notation\n",
    "    ax[1,0].invert_yaxis()\n",
    "    ax[1,0].set_xlabel('x (mm)')\n",
    "    ax[1,0].set_ylabel('y (mm)')\n",
    "    \n",
    "    c11 = ax[1,1].contourf(\n",
    "        x_ref, y_ref, gamma_slice, 100, \n",
    "        vmin=0, vmax=gamma_options['max_gamma'], cmap=plt.get_cmap('coolwarm'))\n",
    "    ax[1,1].set_title(\n",
    "        f\"{gamma_norm_condition} ({gamma_options['dose_percent_threshold']} % / {gamma_options['distance_mm_threshold']} mm)\")    \n",
    "    fig.colorbar(c11, ax=ax[1,1], label='gamma index')\n",
    "    ax[1,1].invert_yaxis()\n",
    "    ax[1,1].set_xlabel('x (mm)')\n",
    "    ax[1,1].set_ylabel('y (mm)')\n",
    "    \n",
    "    #add four orientation marks\n",
    "    len_x = axes_evaluation[2][-1] - axes_evaluation[2][0] #length of x axis\n",
    "    len_y = axes_evaluation[1][-1] - axes_evaluation[1][0] #lenght of y axis\n",
    "    ax[0,0].text(axes_evaluation[2][-1] + 0.4 * len_x, axes_evaluation[1][0] - 0.1 * len_y, current_pt_orient_marks[0], fontsize=15, fontweight='bold')\n",
    "    ax[0,0].text(axes_evaluation[2][0] - 0.2 * len_x, axes_evaluation[1][-1] + 0.1 * len_y, current_pt_orient_marks[2], fontsize=15, fontweight='bold')\n",
    "    ax[1,0].text(axes_evaluation[2][-1] + 0.4 * len_x, axes_evaluation[1][-1] + 0.2 * len_y, current_pt_orient_marks[1], fontsize=15, fontweight='bold')\n",
    "    ax[0,1].text(axes_evaluation[2][-1] + 0.4 * len_x, axes_evaluation[1][-1] + 0.1 * len_y, current_pt_orient_marks[3], fontsize=15, fontweight='bold')\n",
    "    \n",
    "    plt.show()\n",
    "    print(\"\\n\")    "
   ]
  }
 ],
 "metadata": {
  "kernelspec": {
   "display_name": "Python 3 (ipykernel)",
   "language": "python",
   "name": "python3"
  },
  "language_info": {
   "codemirror_mode": {
    "name": "ipython",
    "version": 3
   },
   "file_extension": ".py",
   "mimetype": "text/x-python",
   "name": "python",
   "nbconvert_exporter": "python",
   "pygments_lexer": "ipython3",
   "version": "3.7.5"
  },
  "nbsphinx": {
   "timeout": 600
  }
 },
 "nbformat": 4,
 "nbformat_minor": 4
}
