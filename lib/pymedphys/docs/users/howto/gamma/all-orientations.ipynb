{
 "cells": [
  {
   "cell_type": "code",
   "execution_count": null,
   "metadata": {},
   "outputs": [],
   "source": [
    "import copy\n",
    "import json\n",
    "from os.path import abspath, dirname\n",
    "from os.path import join as pjoin\n",
    "from zipfile import ZipFile\n",
    "\n",
    "from pymedphys._imports import numpy as np\n",
    "from pymedphys._imports import pydicom, pytest\n",
    "\n",
    "import pymedphys\n",
    "from pymedphys._data import download\n",
    "from pymedphys._dicom import collection, create, dose, orientation\n",
    "from pymedphys._gamma.api import gamma_dicom"
   ]
  },
  {
   "cell_type": "code",
   "execution_count": null,
   "metadata": {},
   "outputs": [],
   "source": [
    "def get_file_within_data_zip(zip_name, file_name):\n",
    "    dose_data_files = pymedphys.zip_data_paths(zip_name)\n",
    "    path_match = [path for path in dose_data_files if path.name == file_name]\n",
    "\n",
    "    assert len(path_match) == 1\n",
    "\n",
    "    return str(path_match[0])\n",
    "\n",
    "def get_data_file(orientation_key):\n",
    "    return download.get_file_within_data_zip(\n",
    "        \"dicomorient_doses_only.zip\",\n",
    "        \"RD.DICOMORIENT.Dose_{}.dcm\".format(orientation_key),\n",
    "    )"
   ]
  },
  {
   "cell_type": "code",
   "execution_count": null,
   "metadata": {},
   "outputs": [],
   "source": [
    "ORIENTATIONS_SUPPORTED = [\"FFDL\", \"FFDR\", \"FFP\", \"FFS\", \"HFDL\", \"HFDR\", \"HFP\", \"HFS\"]"
   ]
  },
  {
   "cell_type": "code",
   "execution_count": null,
   "metadata": {},
   "outputs": [],
   "source": [
    "test_ds_dict = {\n",
    "        key: pydicom.dcmread(get_data_file(key))\n",
    "        for key in ORIENTATIONS_SUPPORTED\n",
    "    }"
   ]
  },
  {
   "cell_type": "code",
   "execution_count": null,
   "metadata": {},
   "outputs": [],
   "source": [
    "gammas_by_orient = dict.fromkeys(ORIENTATIONS_SUPPORTED)\n",
    "\n",
    "for orient, ds in test_ds_dict.items():\n",
    "\n",
    "    try:\n",
    "        gammas_by_orient[orient] = gamma_dicom(ds, ds, 1, 1, max_gamma=1.1, random_subset=100)\n",
    "        print(f\"{orient}: {gammas_by_orient[orient].shape}\")\n",
    "\n",
    "    except ValueError as e:\n",
    "        print(f\"{orient}: {e}\")"
   ]
  }
 ],
 "metadata": {
  "kernelspec": {
   "display_name": "Python 3 (ipykernel)",
   "language": "python",
   "name": "python3"
  },
  "language_info": {
   "codemirror_mode": {
    "name": "ipython",
    "version": 3
   },
   "file_extension": ".py",
   "mimetype": "text/x-python",
   "name": "python",
   "nbconvert_exporter": "python",
   "pygments_lexer": "ipython3",
   "version": "3.7.5"
  },
  "vscode": {
   "interpreter": {
    "hash": "230eda8d05a12a922d797cf449b5880ef3cb2c4fc4c236520724aa1fd769a33d"
   }
  }
 },
 "nbformat": 4,
 "nbformat_minor": 4
}
