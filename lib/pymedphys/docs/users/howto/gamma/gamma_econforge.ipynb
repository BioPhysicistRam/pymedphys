{
 "cells": [
  {
   "cell_type": "code",
   "execution_count": null,
   "metadata": {},
   "outputs": [],
   "source": [
    "import copy\n",
    "import sys\n",
    "\n",
    "import numpy as np\n",
    "from numpy.random import default_rng\n",
    "import pydicom\n",
    "\n",
    "import pymedphys\n",
    "from pymedphys._dicom import create"
   ]
  },
  {
   "cell_type": "markdown",
   "metadata": {},
   "source": [
    "# Create two 100 × 100 × 100 DICOM dose grids:"
   ]
  },
  {
   "cell_type": "code",
   "execution_count": null,
   "metadata": {},
   "outputs": [],
   "source": [
    "WIDTH=3\n",
    "\n",
    "DOSE_GRID_SHAPE = (WIDTH, WIDTH, WIDTH)\n",
    "\n",
    "SCALE = 1\n",
    "BITS_ALLOCATED = 32\n",
    "\n",
    "rng = default_rng()\n",
    "\n",
    "data_ref = rng.normal(loc=200, scale=4, size=DOSE_GRID_SHAPE).astype(np.float32) # 2% RSU\n",
    "data_eval = rng.normal(loc=200, scale=4, size=DOSE_GRID_SHAPE).astype(np.float32)\n",
    "\n",
    "print(type(data_ref))\n",
    "# print(data_ref.shape)\n",
    "\n",
    "meta = pydicom.Dataset()\n",
    "meta.TransferSyntaxUID = pydicom.uid.ImplicitVRLittleEndian\n",
    "\n",
    "rtdose_dict = {\n",
    "    \"PatientID\": \"PMP\",\n",
    "    \"Modality\": \"RTDOSE\",\n",
    "    \"ImagePositionPatient\": [-DOSE_GRID_SHAPE[2]+1, -DOSE_GRID_SHAPE[1]+1, -DOSE_GRID_SHAPE[0]+1],\n",
    "    \"ImageOrientationPatient\": [1, 0, 0, 0, 1, 0],\n",
    "    \"BitsAllocated\": BITS_ALLOCATED,\n",
    "    \"Rows\": DOSE_GRID_SHAPE[1],\n",
    "    \"Columns\": DOSE_GRID_SHAPE[2],\n",
    "    \"PixelRepresentation\": 0,\n",
    "    \"SamplesPerPixel\": 1,\n",
    "    \"PhotometricInterpretation\": \"MONOCHROME2\",\n",
    "    \"PixelSpacing\": [2.0, 2.0],\n",
    "    \"GridFrameOffsetVector\": np.arange(0, 2 * DOSE_GRID_SHAPE[0], 2).tolist(),\n",
    "    \"DoseGridScaling\": SCALE,\n",
    "    \"DoseSummationType\": \"PLAN\",\n",
    "    \"DoseType\": \"PHYSICAL\",\n",
    "    \"DoseUnits\": \"GY\",\n",
    "}\n",
    "\n",
    "ds_ref = create.dicom_dataset_from_dict(rtdose_dict)\n",
    "ds_ref.file_meta = meta\n",
    "ds_ref.is_implicit_VR = True\n",
    "# ds_ref['FloatPixelData'].VR = 'OB'\n",
    "ds_ref.fix_meta_info(enforce_standard=False)\n",
    "\n",
    "ds_ref.FloatPixelData = data_ref.tobytes()\n",
    "\n",
    "# print(ds_ref.pixel_array)\n",
    "# print(ds_ref.pixel_array.shape)\n",
    "\n",
    "ds_eval = copy.deepcopy(ds_ref)\n",
    "\n",
    "ds_eval.FloatPixelData = data_eval.tobytes()\n",
    "\n",
    "# print(ds_eval.pixel_array)\n",
    "# print(ds_eval.pixel_array.shape)\n"
   ]
  },
  {
   "cell_type": "markdown",
   "metadata": {},
   "source": [
    "# Gamma"
   ]
  },
  {
   "cell_type": "code",
   "execution_count": null,
   "metadata": {},
   "outputs": [],
   "source": [
    "axes_ref, dose_ref = pymedphys.dicom.zyx_and_dose_from_dataset(ds_ref)\n",
    "axes_eval, dose_eval = pymedphys.dicom.zyx_and_dose_from_dataset(ds_eval)\n",
    "\n",
    "print(axes_ref)\n",
    "\n",
    "dose_percent_thresh = 2\n",
    "dist_mm_thresh = 2"
   ]
  },
  {
   "cell_type": "code",
   "execution_count": null,
   "metadata": {},
   "outputs": [],
   "source": [
    "%%time\n",
    "\n",
    "gamma = pymedphys.gamma(\n",
    "    axes_ref, dose_ref, \n",
    "    axes_eval, dose_eval, \n",
    "    dose_percent_thresh, dist_mm_thresh, interpolator=\"scipy\")"
   ]
  },
  {
   "cell_type": "code",
   "execution_count": null,
   "metadata": {},
   "outputs": [],
   "source": [
    "%%time\n",
    "\n",
    "gamma = pymedphys.gamma(\n",
    "    axes_ref, dose_ref, \n",
    "    axes_eval, dose_eval, \n",
    "    dose_percent_thresh, dist_mm_thresh, interpolator=\"econforge\")"
   ]
  }
 ],
 "metadata": {
  "kernelspec": {
   "display_name": "Python 3.10.4 64-bit ('3.10.4')",
   "language": "python",
   "name": "python3"
  },
  "language_info": {
   "codemirror_mode": {
    "name": "ipython",
    "version": 3
   },
   "file_extension": ".py",
   "mimetype": "text/x-python",
   "name": "python",
   "nbconvert_exporter": "python",
   "pygments_lexer": "ipython3",
   "version": "3.10.4"
  },
  "vscode": {
   "interpreter": {
    "hash": "230eda8d05a12a922d797cf449b5880ef3cb2c4fc4c236520724aa1fd769a33d"
   }
  }
 },
 "nbformat": 4,
 "nbformat_minor": 2
}
