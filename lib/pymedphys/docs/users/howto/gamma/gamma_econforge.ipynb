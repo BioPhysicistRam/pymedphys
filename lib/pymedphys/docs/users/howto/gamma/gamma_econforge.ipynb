{
 "cells": [
  {
   "cell_type": "code",
   "execution_count": null,
   "metadata": {},
   "outputs": [],
   "source": [
    "import pydicom\n",
    "import pymedphys\n",
    "import numpy as np\n",
    "\n",
    "reference_filepath = pymedphys.data_path(\"original_dose_beam_4.dcm\") # reference (e.g., calculated) dose\n",
    "evaluation_filepath = pymedphys.data_path(\"logfile_dose_beam_4.dcm\") # evaluation (e.g., measured) dose\n",
    "\n",
    "reference = pydicom.dcmread(reference_filepath)\n",
    "evaluation = pydicom.dcmread(evaluation_filepath)"
   ]
  },
  {
   "cell_type": "code",
   "execution_count": null,
   "metadata": {},
   "outputs": [],
   "source": [
    "axes_reference, dose_reference = pymedphys.dicom.zyx_and_dose_from_dataset(reference)\n",
    "axes_evaluation, dose_evaluation = pymedphys.dicom.zyx_and_dose_from_dataset(evaluation)\n",
    "\n",
    "dose_percent_threshold = 1\n",
    "distance_mm_threshold = 1"
   ]
  },
  {
   "cell_type": "code",
   "execution_count": null,
   "metadata": {},
   "outputs": [],
   "source": [
    "import matplotlib.pyplot as plt\n",
    "\n",
    "z_ref, y_ref, x_ref = axes_reference\n",
    "\n",
    "dose_difference = dose_evaluation - dose_reference\n",
    "\n",
    "max_diff = np.max(np.abs(dose_difference))\n",
    "\n",
    "# get the z-slice with the maximum dose difference\n",
    "z_max_diff, _, _ = np.unravel_index(np.argmax(np.abs(dose_difference), axis=None), dose_difference.shape)\n",
    "\n",
    "# we consider 10 z-slices above and below the maximum dose difference\n",
    "z_start = z_max_diff - 10\n",
    "z_end = z_max_diff + 10\n",
    "\n",
    "fig, axes = plt.subplots(figsize=(15,10), nrows=4, ncols=5, sharex=True, sharey=True)\n",
    "ax = axes.ravel().tolist()\n",
    "ax[0].invert_yaxis() # invert just once as y axes are shared\n",
    "\n",
    "for i, dose_diff_slice in enumerate(dose_difference[z_start:z_end]):\n",
    "\n",
    "    im = ax[i].contourf(x_ref, y_ref, dose_diff_slice, 100, cmap=plt.get_cmap(\"seismic\"), vmin=-max_diff, vmax=max_diff)\n",
    "    ax[i].set_title(f\"Slice Z_{z_start + i}\")\n",
    "    \n",
    "    if i >= 15:\n",
    "        ax[i].set_xlabel(\"x (mm)\")\n",
    "    \n",
    "    if i % 5 == 0:\n",
    "        ax[i].set_ylabel(\"y (mm)\")\n",
    "\n",
    "fig.tight_layout()\n",
    "cbar = fig.colorbar(im, ax=ax, label=\"[Dose Eval] - [Dose Ref] (Gy)\", aspect=40)\n",
    "cbar.formatter.set_powerlimits((0, 0))\n",
    "\n",
    "plt.show()"
   ]
  },
  {
   "cell_type": "code",
   "execution_count": null,
   "metadata": {},
   "outputs": [],
   "source": [
    "%%time\n",
    "\n",
    "gamma = pymedphys.gamma(\n",
    "    axes_reference, dose_reference, \n",
    "    axes_evaluation, dose_evaluation, \n",
    "    dose_percent_threshold, distance_mm_threshold, interpolator=\"scipy\")"
   ]
  },
  {
   "cell_type": "code",
   "execution_count": null,
   "metadata": {},
   "outputs": [],
   "source": [
    "%%time\n",
    "\n",
    "gamma = pymedphys.gamma(\n",
    "    axes_reference, dose_reference, \n",
    "    axes_evaluation, dose_evaluation, \n",
    "    dose_percent_threshold, distance_mm_threshold, interpolator=\"econforge\")"
   ]
  }
 ],
 "metadata": {
  "kernelspec": {
   "display_name": "Python 3.10.4 64-bit ('3.10.4')",
   "language": "python",
   "name": "python3"
  },
  "language_info": {
   "codemirror_mode": {
    "name": "ipython",
    "version": 3
   },
   "file_extension": ".py",
   "mimetype": "text/x-python",
   "name": "python",
   "nbconvert_exporter": "python",
   "pygments_lexer": "ipython3",
   "version": "3.10.4"
  },
  "vscode": {
   "interpreter": {
    "hash": "230eda8d05a12a922d797cf449b5880ef3cb2c4fc4c236520724aa1fd769a33d"
   }
  }
 },
 "nbformat": 4,
 "nbformat_minor": 2
}
